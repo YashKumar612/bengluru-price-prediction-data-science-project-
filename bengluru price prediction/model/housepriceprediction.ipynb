{
  "cells": [
    {
      "cell_type": "code",
      "execution_count": 1,
      "metadata": {
        "id": "OnSRP_Y4sdOu"
      },
      "outputs": [],
      "source": [
        "import pandas as pd\n",
        "import numpy as np\n",
        "from matplotlib import pyplot as plt\n",
        "import seaborn as sns\n",
        "%matplotlib inline\n",
        "import matplotlib\n",
        "matplotlib.rcParams[\"figure.figsize\"] = (20,10)"
      ]
    },
    {
      "cell_type": "code",
      "execution_count": 2,
      "metadata": {
        "colab": {
          "base_uri": "https://localhost:8080/"
        },
        "id": "acXsaJd1syY6",
        "outputId": "aeca55d6-acf2-4806-96c6-5606778d9e92"
      },
      "outputs": [
        {
          "data": {
            "text/plain": [
              "area_type        object\n",
              "availability     object\n",
              "location         object\n",
              "size             object\n",
              "society          object\n",
              "total_sqft       object\n",
              "bath            float64\n",
              "balcony         float64\n",
              "price           float64\n",
              "dtype: object"
            ]
          },
          "execution_count": 2,
          "metadata": {},
          "output_type": "execute_result"
        }
      ],
      "source": [
        "df1 = pd.read_csv(\"/Users/yashkumar/Desktop/datasets/Bengaluru_House_Data.csv\")\n",
        "df1.head()\n",
        "df1.tail(15)\n",
        "df1.dtypes"
      ]
    },
    {
      "cell_type": "code",
      "execution_count": 3,
      "metadata": {
        "colab": {
          "base_uri": "https://localhost:8080/"
        },
        "id": "QsZuFExAtxDY",
        "outputId": "48844e76-861c-4db8-98db-3cad08497e8d"
      },
      "outputs": [
        {
          "data": {
            "text/plain": [
              "(13320, 9)"
            ]
          },
          "execution_count": 3,
          "metadata": {},
          "output_type": "execute_result"
        }
      ],
      "source": [
        "df1.shape"
      ]
    },
    {
      "cell_type": "code",
      "execution_count": 4,
      "metadata": {
        "colab": {
          "base_uri": "https://localhost:8080/"
        },
        "id": "tQ-wmeSWtyEc",
        "outputId": "c2eec457-07a6-4e58-b3e6-9c9603c8d6ba"
      },
      "outputs": [
        {
          "data": {
            "text/plain": [
              "Index(['area_type', 'availability', 'location', 'size', 'society',\n",
              "       'total_sqft', 'bath', 'balcony', 'price'],\n",
              "      dtype='object')"
            ]
          },
          "execution_count": 4,
          "metadata": {},
          "output_type": "execute_result"
        }
      ],
      "source": [
        "df1.columns"
      ]
    },
    {
      "cell_type": "code",
      "execution_count": 5,
      "metadata": {
        "colab": {
          "base_uri": "https://localhost:8080/"
        },
        "id": "TGulSwLbt4xG",
        "outputId": "80899be1-cc36-49cd-829c-0a35ac9c2aa1"
      },
      "outputs": [
        {
          "data": {
            "text/plain": [
              "array(['Super built-up  Area', 'Plot  Area', 'Built-up  Area',\n",
              "       'Carpet  Area'], dtype=object)"
            ]
          },
          "execution_count": 5,
          "metadata": {},
          "output_type": "execute_result"
        }
      ],
      "source": [
        "df1['area_type'].unique()"
      ]
    },
    {
      "cell_type": "code",
      "execution_count": 6,
      "metadata": {
        "colab": {
          "base_uri": "https://localhost:8080/"
        },
        "id": "DbnQC-lYuRYX",
        "outputId": "7c4d3df6-636f-4af7-c8f3-f56a82abe511"
      },
      "outputs": [
        {
          "data": {
            "text/plain": [
              "area_type       13320\n",
              "availability    13320\n",
              "location        13319\n",
              "size            13304\n",
              "society          7818\n",
              "total_sqft      13320\n",
              "bath            13247\n",
              "balcony         12711\n",
              "price           13320\n",
              "dtype: int64"
            ]
          },
          "execution_count": 6,
          "metadata": {},
          "output_type": "execute_result"
        }
      ],
      "source": [
        "df1.count()"
      ]
    },
    {
      "cell_type": "code",
      "execution_count": 7,
      "metadata": {
        "colab": {
          "base_uri": "https://localhost:8080/",
          "height": 206
        },
        "id": "jzV4Y7mNuZnM",
        "outputId": "31c3db34-7b17-4260-bfc1-403cfc4f8219"
      },
      "outputs": [
        {
          "data": {
            "text/html": [
              "<div>\n",
              "<style scoped>\n",
              "    .dataframe tbody tr th:only-of-type {\n",
              "        vertical-align: middle;\n",
              "    }\n",
              "\n",
              "    .dataframe tbody tr th {\n",
              "        vertical-align: top;\n",
              "    }\n",
              "\n",
              "    .dataframe thead th {\n",
              "        text-align: right;\n",
              "    }\n",
              "</style>\n",
              "<table border=\"1\" class=\"dataframe\">\n",
              "  <thead>\n",
              "    <tr style=\"text-align: right;\">\n",
              "      <th></th>\n",
              "      <th>area_type</th>\n",
              "      <th>availability</th>\n",
              "      <th>location</th>\n",
              "      <th>size</th>\n",
              "      <th>society</th>\n",
              "      <th>total_sqft</th>\n",
              "      <th>bath</th>\n",
              "      <th>balcony</th>\n",
              "      <th>price</th>\n",
              "    </tr>\n",
              "  </thead>\n",
              "  <tbody>\n",
              "    <tr>\n",
              "      <th>0</th>\n",
              "      <td>Super built-up  Area</td>\n",
              "      <td>19-Dec</td>\n",
              "      <td>Electronic City Phase II</td>\n",
              "      <td>2 BHK</td>\n",
              "      <td>Coomee</td>\n",
              "      <td>1056</td>\n",
              "      <td>2.0</td>\n",
              "      <td>1.0</td>\n",
              "      <td>39.07</td>\n",
              "    </tr>\n",
              "    <tr>\n",
              "      <th>1</th>\n",
              "      <td>Plot  Area</td>\n",
              "      <td>Ready To Move</td>\n",
              "      <td>Chikka Tirupathi</td>\n",
              "      <td>4 Bedroom</td>\n",
              "      <td>Theanmp</td>\n",
              "      <td>2600</td>\n",
              "      <td>5.0</td>\n",
              "      <td>3.0</td>\n",
              "      <td>120.00</td>\n",
              "    </tr>\n",
              "    <tr>\n",
              "      <th>2</th>\n",
              "      <td>Built-up  Area</td>\n",
              "      <td>Ready To Move</td>\n",
              "      <td>Uttarahalli</td>\n",
              "      <td>3 BHK</td>\n",
              "      <td>NaN</td>\n",
              "      <td>1440</td>\n",
              "      <td>2.0</td>\n",
              "      <td>3.0</td>\n",
              "      <td>62.00</td>\n",
              "    </tr>\n",
              "    <tr>\n",
              "      <th>3</th>\n",
              "      <td>Super built-up  Area</td>\n",
              "      <td>Ready To Move</td>\n",
              "      <td>Lingadheeranahalli</td>\n",
              "      <td>3 BHK</td>\n",
              "      <td>Soiewre</td>\n",
              "      <td>1521</td>\n",
              "      <td>3.0</td>\n",
              "      <td>1.0</td>\n",
              "      <td>95.00</td>\n",
              "    </tr>\n",
              "    <tr>\n",
              "      <th>4</th>\n",
              "      <td>Super built-up  Area</td>\n",
              "      <td>Ready To Move</td>\n",
              "      <td>Kothanur</td>\n",
              "      <td>2 BHK</td>\n",
              "      <td>NaN</td>\n",
              "      <td>1200</td>\n",
              "      <td>2.0</td>\n",
              "      <td>1.0</td>\n",
              "      <td>51.00</td>\n",
              "    </tr>\n",
              "  </tbody>\n",
              "</table>\n",
              "</div>"
            ],
            "text/plain": [
              "              area_type   availability                  location       size  \\\n",
              "0  Super built-up  Area         19-Dec  Electronic City Phase II      2 BHK   \n",
              "1            Plot  Area  Ready To Move          Chikka Tirupathi  4 Bedroom   \n",
              "2        Built-up  Area  Ready To Move               Uttarahalli      3 BHK   \n",
              "3  Super built-up  Area  Ready To Move        Lingadheeranahalli      3 BHK   \n",
              "4  Super built-up  Area  Ready To Move                  Kothanur      2 BHK   \n",
              "\n",
              "   society total_sqft  bath  balcony   price  \n",
              "0  Coomee        1056   2.0      1.0   39.07  \n",
              "1  Theanmp       2600   5.0      3.0  120.00  \n",
              "2      NaN       1440   2.0      3.0   62.00  \n",
              "3  Soiewre       1521   3.0      1.0   95.00  \n",
              "4      NaN       1200   2.0      1.0   51.00  "
            ]
          },
          "execution_count": 7,
          "metadata": {},
          "output_type": "execute_result"
        }
      ],
      "source": [
        "df1 = df1.drop_duplicates()\n",
        "df1.head()"
      ]
    },
    {
      "cell_type": "code",
      "execution_count": 8,
      "metadata": {
        "colab": {
          "base_uri": "https://localhost:8080/"
        },
        "id": "ph7gNZWBufNy",
        "outputId": "4590bab8-0fd8-48be-9ae2-e79b91b729ce"
      },
      "outputs": [
        {
          "name": "stdout",
          "output_type": "stream",
          "text": [
            "area_type          0\n",
            "availability       0\n",
            "location           1\n",
            "size              16\n",
            "society         5328\n",
            "total_sqft         0\n",
            "bath              73\n",
            "balcony          605\n",
            "price              0\n",
            "dtype: int64\n"
          ]
        }
      ],
      "source": [
        "print(df1.isnull().sum())"
      ]
    },
    {
      "cell_type": "code",
      "execution_count": 9,
      "metadata": {
        "colab": {
          "base_uri": "https://localhost:8080/"
        },
        "id": "KvZgFMwMumCg",
        "outputId": "96773e47-b367-42b5-9698-02b95d50ba4f"
      },
      "outputs": [
        {
          "data": {
            "text/plain": [
              "area_type       7144\n",
              "availability    7144\n",
              "location        7144\n",
              "size            7144\n",
              "society         7144\n",
              "total_sqft      7144\n",
              "bath            7144\n",
              "balcony         7144\n",
              "price           7144\n",
              "dtype: int64"
            ]
          },
          "execution_count": 9,
          "metadata": {},
          "output_type": "execute_result"
        }
      ],
      "source": [
        "df1 = df1.dropna()\n",
        "df1.count()"
      ]
    },
    {
      "cell_type": "code",
      "execution_count": 10,
      "metadata": {
        "colab": {
          "base_uri": "https://localhost:8080/"
        },
        "id": "z1qmTjX-uqYH",
        "outputId": "6d704430-fd49-4c05-e940-3ce7de2b7171"
      },
      "outputs": [
        {
          "name": "stdout",
          "output_type": "stream",
          "text": [
            "area_type       0\n",
            "availability    0\n",
            "location        0\n",
            "size            0\n",
            "society         0\n",
            "total_sqft      0\n",
            "bath            0\n",
            "balcony         0\n",
            "price           0\n",
            "dtype: int64\n"
          ]
        }
      ],
      "source": [
        "print(df1.isnull().sum())"
      ]
    },
    {
      "cell_type": "code",
      "execution_count": 11,
      "metadata": {
        "colab": {
          "base_uri": "https://localhost:8080/",
          "height": 573
        },
        "id": "RMDVv9lBuwFO",
        "outputId": "5b570af4-2bda-4822-d85f-b5934e99ff5b"
      },
      "outputs": [
        {
          "data": {
            "text/plain": [
              "<AxesSubplot:xlabel='bath'>"
            ]
          },
          "execution_count": 11,
          "metadata": {},
          "output_type": "execute_result"
        },
        {
          "data": {
            "image/png": "[encoded data removed]",
            "text/plain": [
              "<Figure size 1440x720 with 1 Axes>"
            ]
          },
          "metadata": {
            "needs_background": "light"
          },
          "output_type": "display_data"
        }
      ],
      "source": [
        "sns.boxplot(x=df1[\"bath\"])"
      ]
    },
    {
      "cell_type": "code",
      "execution_count": 12,
      "metadata": {
        "colab": {
          "base_uri": "https://localhost:8080/",
          "height": 525
        },
        "id": "EwFofwwQwgtc",
        "outputId": "174e7480-d534-4dd1-fffd-724064e74894"
      },
      "outputs": [
        {
          "data": {
            "text/plain": [
              "<AxesSubplot:>"
            ]
          },
          "execution_count": 12,
          "metadata": {},
          "output_type": "execute_result"
        },
        {
          "data": {
            "image/png": "[encoded data removed]",
            "text/plain": [
              "<Figure size 720x360 with 2 Axes>"
            ]
          },
          "metadata": {
            "needs_background": "light"
          },
          "output_type": "display_data"
        }
      ],
      "source": [
        "plt.figure(figsize=(10,5))\n",
        "c= df1.corr()\n",
        "sns.heatmap(c,annot=True)"
      ]
    },
    {
      "cell_type": "markdown",
      "metadata": {
        "id": "HJo3HBiSwz1W"
      },
      "source": [
        "Drop features that are not required to build our model"
      ]
    },
    {
      "cell_type": "code",
      "execution_count": 13,
      "metadata": {
        "colab": {
          "base_uri": "https://localhost:8080/"
        },
        "id": "0rmqFk3ew0jh",
        "outputId": "ff811bde-36e3-4be9-e8c8-74bb50029ea3"
      },
      "outputs": [
        {
          "data": {
            "text/plain": [
              "area_type        object\n",
              "availability     object\n",
              "location         object\n",
              "size             object\n",
              "society          object\n",
              "total_sqft       object\n",
              "bath            float64\n",
              "balcony         float64\n",
              "price           float64\n",
              "dtype: object"
            ]
          },
          "execution_count": 13,
          "metadata": {},
          "output_type": "execute_result"
        }
      ],
      "source": [
        "df2 = df1.drop(['area_type','society','balcony','availability'],axis='columns')\n",
        "df2.shape\n",
        "df1.tail(15)\n",
        "df1.dtypes"
      ]
    },
    {
      "cell_type": "code",
      "execution_count": 14,
      "metadata": {
        "colab": {
          "base_uri": "https://localhost:8080/"
        },
        "id": "wHr5eQBWyKsz",
        "outputId": "663aa0f0-e941-4bce-dbcb-45a1c8ffd15d"
      },
      "outputs": [
        {
          "data": {
            "text/plain": [
              "array(['2 BHK', '4 Bedroom', '3 BHK', '3 Bedroom', '1 RK', '4 BHK',\n",
              "       '1 BHK', '5 BHK', '11 BHK', '5 Bedroom', '9 BHK', '2 Bedroom',\n",
              "       '6 BHK', '7 BHK', '6 Bedroom'], dtype=object)"
            ]
          },
          "execution_count": 14,
          "metadata": {},
          "output_type": "execute_result"
        }
      ],
      "source": [
        "df2['size'].unique()"
      ]
    },
    {
      "cell_type": "code",
      "execution_count": 15,
      "metadata": {
        "colab": {
          "base_uri": "https://localhost:8080/"
        },
        "id": "ZVrBDke7xfBE",
        "outputId": "d519b53d-9937-41cb-a059-5c07e9758382"
      },
      "outputs": [
        {
          "data": {
            "text/plain": [
              "array([ 2,  4,  3,  1,  5, 11,  9,  6,  7])"
            ]
          },
          "execution_count": 15,
          "metadata": {},
          "output_type": "execute_result"
        }
      ],
      "source": [
        "df2['bhk'] = df2['size'].apply(lambda  x : int(x.split(' ')[0]))\n",
        "df2.bhk.unique()"
      ]
    },
    {
      "cell_type": "markdown",
      "metadata": {
        "id": "-W-BwIhWzGnZ"
      },
      "source": [
        "No Confusion between 2 room and 2 BHK anymore"
      ]
    },
    {
      "cell_type": "code",
      "execution_count": 16,
      "metadata": {
        "colab": {
          "base_uri": "https://localhost:8080/",
          "height": 206
        },
        "id": "pEb3Oilxy-Gs",
        "outputId": "b089d831-e23a-4e77-e93f-32258e62972c"
      },
      "outputs": [
        {
          "data": {
            "text/html": [
              "<div>\n",
              "<style scoped>\n",
              "    .dataframe tbody tr th:only-of-type {\n",
              "        vertical-align: middle;\n",
              "    }\n",
              "\n",
              "    .dataframe tbody tr th {\n",
              "        vertical-align: top;\n",
              "    }\n",
              "\n",
              "    .dataframe thead th {\n",
              "        text-align: right;\n",
              "    }\n",
              "</style>\n",
              "<table border=\"1\" class=\"dataframe\">\n",
              "  <thead>\n",
              "    <tr style=\"text-align: right;\">\n",
              "      <th></th>\n",
              "      <th>location</th>\n",
              "      <th>size</th>\n",
              "      <th>total_sqft</th>\n",
              "      <th>bath</th>\n",
              "      <th>price</th>\n",
              "      <th>bhk</th>\n",
              "    </tr>\n",
              "  </thead>\n",
              "  <tbody>\n",
              "    <tr>\n",
              "      <th>0</th>\n",
              "      <td>Electronic City Phase II</td>\n",
              "      <td>2 BHK</td>\n",
              "      <td>1056</td>\n",
              "      <td>2.0</td>\n",
              "      <td>39.07</td>\n",
              "      <td>2</td>\n",
              "    </tr>\n",
              "    <tr>\n",
              "      <th>1</th>\n",
              "      <td>Chikka Tirupathi</td>\n",
              "      <td>4 Bedroom</td>\n",
              "      <td>2600</td>\n",
              "      <td>5.0</td>\n",
              "      <td>120.00</td>\n",
              "      <td>4</td>\n",
              "    </tr>\n",
              "    <tr>\n",
              "      <th>3</th>\n",
              "      <td>Lingadheeranahalli</td>\n",
              "      <td>3 BHK</td>\n",
              "      <td>1521</td>\n",
              "      <td>3.0</td>\n",
              "      <td>95.00</td>\n",
              "      <td>3</td>\n",
              "    </tr>\n",
              "    <tr>\n",
              "      <th>5</th>\n",
              "      <td>Whitefield</td>\n",
              "      <td>2 BHK</td>\n",
              "      <td>1170</td>\n",
              "      <td>2.0</td>\n",
              "      <td>38.00</td>\n",
              "      <td>2</td>\n",
              "    </tr>\n",
              "    <tr>\n",
              "      <th>11</th>\n",
              "      <td>Whitefield</td>\n",
              "      <td>4 Bedroom</td>\n",
              "      <td>2785</td>\n",
              "      <td>5.0</td>\n",
              "      <td>295.00</td>\n",
              "      <td>4</td>\n",
              "    </tr>\n",
              "  </tbody>\n",
              "</table>\n",
              "</div>"
            ],
            "text/plain": [
              "                    location       size total_sqft  bath   price  bhk\n",
              "0   Electronic City Phase II      2 BHK       1056   2.0   39.07    2\n",
              "1           Chikka Tirupathi  4 Bedroom       2600   5.0  120.00    4\n",
              "3         Lingadheeranahalli      3 BHK       1521   3.0   95.00    3\n",
              "5                 Whitefield      2 BHK       1170   2.0   38.00    2\n",
              "11                Whitefield  4 Bedroom       2785   5.0  295.00    4"
            ]
          },
          "execution_count": 16,
          "metadata": {},
          "output_type": "execute_result"
        }
      ],
      "source": [
        "df2.head()"
      ]
    },
    {
      "cell_type": "code",
      "execution_count": 17,
      "metadata": {
        "id": "X5F-eJxqziVO"
      },
      "outputs": [],
      "source": [
        "#BHK becomes int datatype"
      ]
    },
    {
      "cell_type": "code",
      "execution_count": 18,
      "metadata": {
        "colab": {
          "base_uri": "https://localhost:8080/"
        },
        "id": "t7QvNIpgzMND",
        "outputId": "d1a047aa-dc13-4d19-aff8-ad80b915ec50"
      },
      "outputs": [
        {
          "data": {
            "text/plain": [
              "location       object\n",
              "size           object\n",
              "total_sqft     object\n",
              "bath          float64\n",
              "price         float64\n",
              "bhk             int64\n",
              "dtype: object"
            ]
          },
          "execution_count": 18,
          "metadata": {},
          "output_type": "execute_result"
        }
      ],
      "source": [
        "df2.dtypes"
      ]
    },
    {
      "cell_type": "code",
      "execution_count": 19,
      "metadata": {
        "colab": {
          "base_uri": "https://localhost:8080/"
        },
        "id": "dkRwfKLRzkw_",
        "outputId": "cbd800e3-2420-4f21-9ac1-efab696b232d"
      },
      "outputs": [
        {
          "data": {
            "text/plain": [
              "array(['1056', '2600', '1521', ..., '1919', '2111', '4689'], dtype=object)"
            ]
          },
          "execution_count": 19,
          "metadata": {},
          "output_type": "execute_result"
        }
      ],
      "source": [
        "df2.total_sqft.unique()"
      ]
    },
    {
      "cell_type": "code",
      "execution_count": 20,
      "metadata": {
        "id": "DSZqaPB_0yni"
      },
      "outputs": [],
      "source": [
        "def is_float(x):\n",
        "    try:\n",
        "        float(x)\n",
        "    except:\n",
        "        return False\n",
        "    return True\n"
      ]
    },
    {
      "cell_type": "code",
      "execution_count": 21,
      "metadata": {
        "colab": {
          "base_uri": "https://localhost:8080/",
          "height": 677
        },
        "id": "fq_HPtxb02Ua",
        "outputId": "2ad6f7e2-be20-46f7-e728-7ab661c106b9"
      },
      "outputs": [
        {
          "data": {
            "text/html": [
              "<div>\n",
              "<style scoped>\n",
              "    .dataframe tbody tr th:only-of-type {\n",
              "        vertical-align: middle;\n",
              "    }\n",
              "\n",
              "    .dataframe tbody tr th {\n",
              "        vertical-align: top;\n",
              "    }\n",
              "\n",
              "    .dataframe thead th {\n",
              "        text-align: right;\n",
              "    }\n",
              "</style>\n",
              "<table border=\"1\" class=\"dataframe\">\n",
              "  <thead>\n",
              "    <tr style=\"text-align: right;\">\n",
              "      <th></th>\n",
              "      <th>location</th>\n",
              "      <th>size</th>\n",
              "      <th>total_sqft</th>\n",
              "      <th>bath</th>\n",
              "      <th>price</th>\n",
              "      <th>bhk</th>\n",
              "    </tr>\n",
              "  </thead>\n",
              "  <tbody>\n",
              "    <tr>\n",
              "      <th>30</th>\n",
              "      <td>Yelahanka</td>\n",
              "      <td>4 BHK</td>\n",
              "      <td>2100 - 2850</td>\n",
              "      <td>4.0</td>\n",
              "      <td>186.000</td>\n",
              "      <td>4</td>\n",
              "    </tr>\n",
              "    <tr>\n",
              "      <th>122</th>\n",
              "      <td>Hebbal</td>\n",
              "      <td>4 BHK</td>\n",
              "      <td>3067 - 8156</td>\n",
              "      <td>4.0</td>\n",
              "      <td>477.000</td>\n",
              "      <td>4</td>\n",
              "    </tr>\n",
              "    <tr>\n",
              "      <th>137</th>\n",
              "      <td>8th Phase JP Nagar</td>\n",
              "      <td>2 BHK</td>\n",
              "      <td>1042 - 1105</td>\n",
              "      <td>2.0</td>\n",
              "      <td>54.005</td>\n",
              "      <td>2</td>\n",
              "    </tr>\n",
              "    <tr>\n",
              "      <th>165</th>\n",
              "      <td>Sarjapur</td>\n",
              "      <td>2 BHK</td>\n",
              "      <td>1145 - 1340</td>\n",
              "      <td>2.0</td>\n",
              "      <td>43.490</td>\n",
              "      <td>2</td>\n",
              "    </tr>\n",
              "    <tr>\n",
              "      <th>188</th>\n",
              "      <td>KR Puram</td>\n",
              "      <td>2 BHK</td>\n",
              "      <td>1015 - 1540</td>\n",
              "      <td>2.0</td>\n",
              "      <td>56.800</td>\n",
              "      <td>2</td>\n",
              "    </tr>\n",
              "    <tr>\n",
              "      <th>549</th>\n",
              "      <td>Hennur Road</td>\n",
              "      <td>2 BHK</td>\n",
              "      <td>1195 - 1440</td>\n",
              "      <td>2.0</td>\n",
              "      <td>63.770</td>\n",
              "      <td>2</td>\n",
              "    </tr>\n",
              "    <tr>\n",
              "      <th>661</th>\n",
              "      <td>Yelahanka</td>\n",
              "      <td>2 BHK</td>\n",
              "      <td>1120 - 1145</td>\n",
              "      <td>2.0</td>\n",
              "      <td>48.130</td>\n",
              "      <td>2</td>\n",
              "    </tr>\n",
              "    <tr>\n",
              "      <th>672</th>\n",
              "      <td>Bettahalsoor</td>\n",
              "      <td>4 Bedroom</td>\n",
              "      <td>3090 - 5002</td>\n",
              "      <td>4.0</td>\n",
              "      <td>445.000</td>\n",
              "      <td>4</td>\n",
              "    </tr>\n",
              "    <tr>\n",
              "      <th>772</th>\n",
              "      <td>Banashankari Stage VI</td>\n",
              "      <td>2 BHK</td>\n",
              "      <td>1160 - 1195</td>\n",
              "      <td>2.0</td>\n",
              "      <td>59.935</td>\n",
              "      <td>2</td>\n",
              "    </tr>\n",
              "    <tr>\n",
              "      <th>850</th>\n",
              "      <td>Bannerghatta Road</td>\n",
              "      <td>2 BHK</td>\n",
              "      <td>1115 - 1130</td>\n",
              "      <td>2.0</td>\n",
              "      <td>58.935</td>\n",
              "      <td>2</td>\n",
              "    </tr>\n",
              "    <tr>\n",
              "      <th>886</th>\n",
              "      <td>Chandapura</td>\n",
              "      <td>1 BHK</td>\n",
              "      <td>520 - 645</td>\n",
              "      <td>1.0</td>\n",
              "      <td>15.135</td>\n",
              "      <td>1</td>\n",
              "    </tr>\n",
              "    <tr>\n",
              "      <th>927</th>\n",
              "      <td>Thanisandra</td>\n",
              "      <td>2 BHK</td>\n",
              "      <td>1000 - 1285</td>\n",
              "      <td>2.0</td>\n",
              "      <td>43.415</td>\n",
              "      <td>2</td>\n",
              "    </tr>\n",
              "    <tr>\n",
              "      <th>959</th>\n",
              "      <td>Kammasandra</td>\n",
              "      <td>1 BHK</td>\n",
              "      <td>650 - 665</td>\n",
              "      <td>1.0</td>\n",
              "      <td>18.410</td>\n",
              "      <td>1</td>\n",
              "    </tr>\n",
              "    <tr>\n",
              "      <th>990</th>\n",
              "      <td>Sarjapur</td>\n",
              "      <td>1 BHK</td>\n",
              "      <td>633 - 666</td>\n",
              "      <td>1.0</td>\n",
              "      <td>17.535</td>\n",
              "      <td>1</td>\n",
              "    </tr>\n",
              "    <tr>\n",
              "      <th>1178</th>\n",
              "      <td>Yelahanka</td>\n",
              "      <td>3 BHK</td>\n",
              "      <td>1445 - 1455</td>\n",
              "      <td>3.0</td>\n",
              "      <td>65.255</td>\n",
              "      <td>3</td>\n",
              "    </tr>\n",
              "    <tr>\n",
              "      <th>1183</th>\n",
              "      <td>Magadi Road</td>\n",
              "      <td>2 BHK</td>\n",
              "      <td>884 - 1116</td>\n",
              "      <td>2.0</td>\n",
              "      <td>46.500</td>\n",
              "      <td>2</td>\n",
              "    </tr>\n",
              "    <tr>\n",
              "      <th>1187</th>\n",
              "      <td>Thanisandra</td>\n",
              "      <td>2 BHK</td>\n",
              "      <td>850 - 1093</td>\n",
              "      <td>2.0</td>\n",
              "      <td>36.435</td>\n",
              "      <td>2</td>\n",
              "    </tr>\n",
              "    <tr>\n",
              "      <th>1484</th>\n",
              "      <td>Hebbal</td>\n",
              "      <td>2 BHK</td>\n",
              "      <td>547.34 - 827.31</td>\n",
              "      <td>2.0</td>\n",
              "      <td>42.720</td>\n",
              "      <td>2</td>\n",
              "    </tr>\n",
              "    <tr>\n",
              "      <th>1542</th>\n",
              "      <td>Sarjapur  Road</td>\n",
              "      <td>1 BHK</td>\n",
              "      <td>580 - 650</td>\n",
              "      <td>1.0</td>\n",
              "      <td>17.835</td>\n",
              "      <td>1</td>\n",
              "    </tr>\n",
              "    <tr>\n",
              "      <th>1614</th>\n",
              "      <td>Sarjapur  Road</td>\n",
              "      <td>4 BHK</td>\n",
              "      <td>3425 - 3435</td>\n",
              "      <td>6.0</td>\n",
              "      <td>228.500</td>\n",
              "      <td>4</td>\n",
              "    </tr>\n",
              "  </tbody>\n",
              "</table>\n",
              "</div>"
            ],
            "text/plain": [
              "                   location       size       total_sqft  bath    price  bhk\n",
              "30                Yelahanka      4 BHK      2100 - 2850   4.0  186.000    4\n",
              "122                  Hebbal      4 BHK      3067 - 8156   4.0  477.000    4\n",
              "137      8th Phase JP Nagar      2 BHK      1042 - 1105   2.0   54.005    2\n",
              "165                Sarjapur      2 BHK      1145 - 1340   2.0   43.490    2\n",
              "188                KR Puram      2 BHK      1015 - 1540   2.0   56.800    2\n",
              "549             Hennur Road      2 BHK      1195 - 1440   2.0   63.770    2\n",
              "661               Yelahanka      2 BHK      1120 - 1145   2.0   48.130    2\n",
              "672            Bettahalsoor  4 Bedroom      3090 - 5002   4.0  445.000    4\n",
              "772   Banashankari Stage VI      2 BHK      1160 - 1195   2.0   59.935    2\n",
              "850       Bannerghatta Road      2 BHK      1115 - 1130   2.0   58.935    2\n",
              "886              Chandapura      1 BHK        520 - 645   1.0   15.135    1\n",
              "927             Thanisandra      2 BHK      1000 - 1285   2.0   43.415    2\n",
              "959             Kammasandra      1 BHK        650 - 665   1.0   18.410    1\n",
              "990                Sarjapur      1 BHK        633 - 666   1.0   17.535    1\n",
              "1178              Yelahanka      3 BHK      1445 - 1455   3.0   65.255    3\n",
              "1183            Magadi Road      2 BHK       884 - 1116   2.0   46.500    2\n",
              "1187            Thanisandra      2 BHK       850 - 1093   2.0   36.435    2\n",
              "1484                 Hebbal      2 BHK  547.34 - 827.31   2.0   42.720    2\n",
              "1542         Sarjapur  Road      1 BHK        580 - 650   1.0   17.835    1\n",
              "1614         Sarjapur  Road      4 BHK      3425 - 3435   6.0  228.500    4"
            ]
          },
          "execution_count": 21,
          "metadata": {},
          "output_type": "execute_result"
        }
      ],
      "source": [
        "df2[~df2['total_sqft'].apply(is_float)].head(20) #~ nigget operator"
      ]
    },
    {
      "cell_type": "code",
      "execution_count": 22,
      "metadata": {
        "id": "fdt92MpB1T5M"
      },
      "outputs": [],
      "source": [
        "#function to take average of ranges\n",
        "def convert_sqft_to_num(x):\n",
        "    tokens = x.split('-')\n",
        "    if len(tokens) == 2:\n",
        "        return (float(tokens[0])+float(tokens[1]))/2\n",
        "    try:\n",
        "        return float(x)\n",
        "    except:\n",
        "        return None"
      ]
    },
    {
      "cell_type": "code",
      "execution_count": 23,
      "metadata": {
        "colab": {
          "base_uri": "https://localhost:8080/",
          "height": 677
        },
        "id": "XDaO4PZy1xty",
        "outputId": "83869ab3-f305-4078-8bf2-57737bf734cf"
      },
      "outputs": [
        {
          "data": {
            "text/html": [
              "<div>\n",
              "<style scoped>\n",
              "    .dataframe tbody tr th:only-of-type {\n",
              "        vertical-align: middle;\n",
              "    }\n",
              "\n",
              "    .dataframe tbody tr th {\n",
              "        vertical-align: top;\n",
              "    }\n",
              "\n",
              "    .dataframe thead th {\n",
              "        text-align: right;\n",
              "    }\n",
              "</style>\n",
              "<table border=\"1\" class=\"dataframe\">\n",
              "  <thead>\n",
              "    <tr style=\"text-align: right;\">\n",
              "      <th></th>\n",
              "      <th>location</th>\n",
              "      <th>size</th>\n",
              "      <th>total_sqft</th>\n",
              "      <th>bath</th>\n",
              "      <th>price</th>\n",
              "      <th>bhk</th>\n",
              "    </tr>\n",
              "  </thead>\n",
              "  <tbody>\n",
              "    <tr>\n",
              "      <th>0</th>\n",
              "      <td>Electronic City Phase II</td>\n",
              "      <td>2 BHK</td>\n",
              "      <td>1056.0</td>\n",
              "      <td>2.0</td>\n",
              "      <td>39.07</td>\n",
              "      <td>2</td>\n",
              "    </tr>\n",
              "    <tr>\n",
              "      <th>1</th>\n",
              "      <td>Chikka Tirupathi</td>\n",
              "      <td>4 Bedroom</td>\n",
              "      <td>2600.0</td>\n",
              "      <td>5.0</td>\n",
              "      <td>120.00</td>\n",
              "      <td>4</td>\n",
              "    </tr>\n",
              "    <tr>\n",
              "      <th>3</th>\n",
              "      <td>Lingadheeranahalli</td>\n",
              "      <td>3 BHK</td>\n",
              "      <td>1521.0</td>\n",
              "      <td>3.0</td>\n",
              "      <td>95.00</td>\n",
              "      <td>3</td>\n",
              "    </tr>\n",
              "    <tr>\n",
              "      <th>5</th>\n",
              "      <td>Whitefield</td>\n",
              "      <td>2 BHK</td>\n",
              "      <td>1170.0</td>\n",
              "      <td>2.0</td>\n",
              "      <td>38.00</td>\n",
              "      <td>2</td>\n",
              "    </tr>\n",
              "    <tr>\n",
              "      <th>11</th>\n",
              "      <td>Whitefield</td>\n",
              "      <td>4 Bedroom</td>\n",
              "      <td>2785.0</td>\n",
              "      <td>5.0</td>\n",
              "      <td>295.00</td>\n",
              "      <td>4</td>\n",
              "    </tr>\n",
              "    <tr>\n",
              "      <th>12</th>\n",
              "      <td>7th Phase JP Nagar</td>\n",
              "      <td>2 BHK</td>\n",
              "      <td>1000.0</td>\n",
              "      <td>2.0</td>\n",
              "      <td>38.00</td>\n",
              "      <td>2</td>\n",
              "    </tr>\n",
              "    <tr>\n",
              "      <th>14</th>\n",
              "      <td>Sarjapur</td>\n",
              "      <td>3 Bedroom</td>\n",
              "      <td>2250.0</td>\n",
              "      <td>3.0</td>\n",
              "      <td>148.00</td>\n",
              "      <td>3</td>\n",
              "    </tr>\n",
              "    <tr>\n",
              "      <th>15</th>\n",
              "      <td>Mysore Road</td>\n",
              "      <td>2 BHK</td>\n",
              "      <td>1175.0</td>\n",
              "      <td>2.0</td>\n",
              "      <td>73.50</td>\n",
              "      <td>2</td>\n",
              "    </tr>\n",
              "    <tr>\n",
              "      <th>16</th>\n",
              "      <td>Bisuvanahalli</td>\n",
              "      <td>3 BHK</td>\n",
              "      <td>1180.0</td>\n",
              "      <td>3.0</td>\n",
              "      <td>48.00</td>\n",
              "      <td>3</td>\n",
              "    </tr>\n",
              "    <tr>\n",
              "      <th>17</th>\n",
              "      <td>Raja Rajeshwari Nagar</td>\n",
              "      <td>3 BHK</td>\n",
              "      <td>1540.0</td>\n",
              "      <td>3.0</td>\n",
              "      <td>60.00</td>\n",
              "      <td>3</td>\n",
              "    </tr>\n",
              "    <tr>\n",
              "      <th>18</th>\n",
              "      <td>Ramakrishnappa Layout</td>\n",
              "      <td>3 BHK</td>\n",
              "      <td>2770.0</td>\n",
              "      <td>4.0</td>\n",
              "      <td>290.00</td>\n",
              "      <td>3</td>\n",
              "    </tr>\n",
              "    <tr>\n",
              "      <th>21</th>\n",
              "      <td>Binny Pete</td>\n",
              "      <td>3 BHK</td>\n",
              "      <td>1755.0</td>\n",
              "      <td>3.0</td>\n",
              "      <td>122.00</td>\n",
              "      <td>3</td>\n",
              "    </tr>\n",
              "    <tr>\n",
              "      <th>22</th>\n",
              "      <td>Thanisandra</td>\n",
              "      <td>4 Bedroom</td>\n",
              "      <td>2800.0</td>\n",
              "      <td>5.0</td>\n",
              "      <td>380.00</td>\n",
              "      <td>4</td>\n",
              "    </tr>\n",
              "    <tr>\n",
              "      <th>24</th>\n",
              "      <td>Thanisandra</td>\n",
              "      <td>1 RK</td>\n",
              "      <td>510.0</td>\n",
              "      <td>1.0</td>\n",
              "      <td>25.25</td>\n",
              "      <td>1</td>\n",
              "    </tr>\n",
              "    <tr>\n",
              "      <th>26</th>\n",
              "      <td>Electronic City</td>\n",
              "      <td>2 BHK</td>\n",
              "      <td>660.0</td>\n",
              "      <td>1.0</td>\n",
              "      <td>23.10</td>\n",
              "      <td>2</td>\n",
              "    </tr>\n",
              "    <tr>\n",
              "      <th>28</th>\n",
              "      <td>Ramagondanahalli</td>\n",
              "      <td>2 BHK</td>\n",
              "      <td>1151.0</td>\n",
              "      <td>2.0</td>\n",
              "      <td>48.77</td>\n",
              "      <td>2</td>\n",
              "    </tr>\n",
              "    <tr>\n",
              "      <th>29</th>\n",
              "      <td>Electronic City</td>\n",
              "      <td>3 BHK</td>\n",
              "      <td>1025.0</td>\n",
              "      <td>2.0</td>\n",
              "      <td>47.00</td>\n",
              "      <td>3</td>\n",
              "    </tr>\n",
              "    <tr>\n",
              "      <th>30</th>\n",
              "      <td>Yelahanka</td>\n",
              "      <td>4 BHK</td>\n",
              "      <td>2475.0</td>\n",
              "      <td>4.0</td>\n",
              "      <td>186.00</td>\n",
              "      <td>4</td>\n",
              "    </tr>\n",
              "    <tr>\n",
              "      <th>31</th>\n",
              "      <td>Bisuvanahalli</td>\n",
              "      <td>3 BHK</td>\n",
              "      <td>1075.0</td>\n",
              "      <td>2.0</td>\n",
              "      <td>35.00</td>\n",
              "      <td>3</td>\n",
              "    </tr>\n",
              "    <tr>\n",
              "      <th>32</th>\n",
              "      <td>Hebbal</td>\n",
              "      <td>3 BHK</td>\n",
              "      <td>1760.0</td>\n",
              "      <td>2.0</td>\n",
              "      <td>123.00</td>\n",
              "      <td>3</td>\n",
              "    </tr>\n",
              "  </tbody>\n",
              "</table>\n",
              "</div>"
            ],
            "text/plain": [
              "                    location       size  total_sqft  bath   price  bhk\n",
              "0   Electronic City Phase II      2 BHK      1056.0   2.0   39.07    2\n",
              "1           Chikka Tirupathi  4 Bedroom      2600.0   5.0  120.00    4\n",
              "3         Lingadheeranahalli      3 BHK      1521.0   3.0   95.00    3\n",
              "5                 Whitefield      2 BHK      1170.0   2.0   38.00    2\n",
              "11                Whitefield  4 Bedroom      2785.0   5.0  295.00    4\n",
              "12        7th Phase JP Nagar      2 BHK      1000.0   2.0   38.00    2\n",
              "14                  Sarjapur  3 Bedroom      2250.0   3.0  148.00    3\n",
              "15               Mysore Road      2 BHK      1175.0   2.0   73.50    2\n",
              "16             Bisuvanahalli      3 BHK      1180.0   3.0   48.00    3\n",
              "17     Raja Rajeshwari Nagar      3 BHK      1540.0   3.0   60.00    3\n",
              "18     Ramakrishnappa Layout      3 BHK      2770.0   4.0  290.00    3\n",
              "21                Binny Pete      3 BHK      1755.0   3.0  122.00    3\n",
              "22               Thanisandra  4 Bedroom      2800.0   5.0  380.00    4\n",
              "24               Thanisandra       1 RK       510.0   1.0   25.25    1\n",
              "26           Electronic City      2 BHK       660.0   1.0   23.10    2\n",
              "28          Ramagondanahalli      2 BHK      1151.0   2.0   48.77    2\n",
              "29           Electronic City      3 BHK      1025.0   2.0   47.00    3\n",
              "30                 Yelahanka      4 BHK      2475.0   4.0  186.00    4\n",
              "31             Bisuvanahalli      3 BHK      1075.0   2.0   35.00    3\n",
              "32                    Hebbal      3 BHK      1760.0   2.0  123.00    3"
            ]
          },
          "execution_count": 23,
          "metadata": {},
          "output_type": "execute_result"
        }
      ],
      "source": [
        "df3 = df2.copy()\n",
        "df3.total_sqft = df3.total_sqft.apply(convert_sqft_to_num)\n",
        "df3 = df3[df3.total_sqft.notnull()]\n",
        "df3.head(20)\n"
      ]
    },
    {
      "cell_type": "code",
      "execution_count": 24,
      "metadata": {
        "colab": {
          "base_uri": "https://localhost:8080/"
        },
        "id": "iQvRDsB62mL7",
        "outputId": "afe582fc-f2c7-4ded-acc7-18d7f01c3391"
      },
      "outputs": [
        {
          "data": {
            "text/plain": [
              "location       object\n",
              "size           object\n",
              "total_sqft    float64\n",
              "bath          float64\n",
              "price         float64\n",
              "bhk             int64\n",
              "dtype: object"
            ]
          },
          "execution_count": 24,
          "metadata": {},
          "output_type": "execute_result"
        }
      ],
      "source": [
        "df3.dtypes #total_sqft becomes float datatype"
      ]
    },
    {
      "cell_type": "code",
      "execution_count": 25,
      "metadata": {
        "colab": {
          "base_uri": "https://localhost:8080/",
          "height": 206
        },
        "id": "I0sGw6_J2tBt",
        "outputId": "2aff5412-725c-4647-d2b3-2092504d0719"
      },
      "outputs": [
        {
          "data": {
            "text/html": [
              "<div>\n",
              "<style scoped>\n",
              "    .dataframe tbody tr th:only-of-type {\n",
              "        vertical-align: middle;\n",
              "    }\n",
              "\n",
              "    .dataframe tbody tr th {\n",
              "        vertical-align: top;\n",
              "    }\n",
              "\n",
              "    .dataframe thead th {\n",
              "        text-align: right;\n",
              "    }\n",
              "</style>\n",
              "<table border=\"1\" class=\"dataframe\">\n",
              "  <thead>\n",
              "    <tr style=\"text-align: right;\">\n",
              "      <th></th>\n",
              "      <th>location</th>\n",
              "      <th>size</th>\n",
              "      <th>total_sqft</th>\n",
              "      <th>bath</th>\n",
              "      <th>price</th>\n",
              "      <th>bhk</th>\n",
              "      <th>price_per_sqft</th>\n",
              "    </tr>\n",
              "  </thead>\n",
              "  <tbody>\n",
              "    <tr>\n",
              "      <th>0</th>\n",
              "      <td>Electronic City Phase II</td>\n",
              "      <td>2 BHK</td>\n",
              "      <td>1056.0</td>\n",
              "      <td>2.0</td>\n",
              "      <td>39.07</td>\n",
              "      <td>2</td>\n",
              "      <td>3699.810606</td>\n",
              "    </tr>\n",
              "    <tr>\n",
              "      <th>1</th>\n",
              "      <td>Chikka Tirupathi</td>\n",
              "      <td>4 Bedroom</td>\n",
              "      <td>2600.0</td>\n",
              "      <td>5.0</td>\n",
              "      <td>120.00</td>\n",
              "      <td>4</td>\n",
              "      <td>4615.384615</td>\n",
              "    </tr>\n",
              "    <tr>\n",
              "      <th>3</th>\n",
              "      <td>Lingadheeranahalli</td>\n",
              "      <td>3 BHK</td>\n",
              "      <td>1521.0</td>\n",
              "      <td>3.0</td>\n",
              "      <td>95.00</td>\n",
              "      <td>3</td>\n",
              "      <td>6245.890861</td>\n",
              "    </tr>\n",
              "    <tr>\n",
              "      <th>5</th>\n",
              "      <td>Whitefield</td>\n",
              "      <td>2 BHK</td>\n",
              "      <td>1170.0</td>\n",
              "      <td>2.0</td>\n",
              "      <td>38.00</td>\n",
              "      <td>2</td>\n",
              "      <td>3247.863248</td>\n",
              "    </tr>\n",
              "    <tr>\n",
              "      <th>11</th>\n",
              "      <td>Whitefield</td>\n",
              "      <td>4 Bedroom</td>\n",
              "      <td>2785.0</td>\n",
              "      <td>5.0</td>\n",
              "      <td>295.00</td>\n",
              "      <td>4</td>\n",
              "      <td>10592.459605</td>\n",
              "    </tr>\n",
              "  </tbody>\n",
              "</table>\n",
              "</div>"
            ],
            "text/plain": [
              "                    location       size  total_sqft  bath   price  bhk  \\\n",
              "0   Electronic City Phase II      2 BHK      1056.0   2.0   39.07    2   \n",
              "1           Chikka Tirupathi  4 Bedroom      2600.0   5.0  120.00    4   \n",
              "3         Lingadheeranahalli      3 BHK      1521.0   3.0   95.00    3   \n",
              "5                 Whitefield      2 BHK      1170.0   2.0   38.00    2   \n",
              "11                Whitefield  4 Bedroom      2785.0   5.0  295.00    4   \n",
              "\n",
              "    price_per_sqft  \n",
              "0      3699.810606  \n",
              "1      4615.384615  \n",
              "3      6245.890861  \n",
              "5      3247.863248  \n",
              "11    10592.459605  "
            ]
          },
          "execution_count": 25,
          "metadata": {},
          "output_type": "execute_result"
        }
      ],
      "source": [
        "df4 = df3.copy()\n",
        "df4['price_per_sqft'] = df4['price']*100000/df4['total_sqft'] #dividing two columsns\n",
        "df4.head()"
      ]
    },
    {
      "cell_type": "code",
      "execution_count": 26,
      "metadata": {
        "colab": {
          "base_uri": "https://localhost:8080/",
          "height": 573
        },
        "id": "z_pO0_AW3Fr2",
        "outputId": "91d24663-5bde-4693-cb00-117e0e78b71e"
      },
      "outputs": [
        {
          "data": {
            "text/plain": [
              "<AxesSubplot:xlabel='total_sqft'>"
            ]
          },
          "execution_count": 26,
          "metadata": {},
          "output_type": "execute_result"
        },
        {
          "data": {
            "image/png": "[encoded data removed]",
            "text/plain": [
              "<Figure size 1440x720 with 1 Axes>"
            ]
          },
          "metadata": {
            "needs_background": "light"
          },
          "output_type": "display_data"
        }
      ],
      "source": [
        "sns.boxplot(x=df4[\"total_sqft\"]) #many outliers are present"
      ]
    },
    {
      "cell_type": "code",
      "execution_count": 27,
      "metadata": {
        "colab": {
          "base_uri": "https://localhost:8080/"
        },
        "id": "trs6PsvJ3cMg",
        "outputId": "a2152569-9596-4b21-90a3-80b370095010"
      },
      "outputs": [
        {
          "data": {
            "text/plain": [
              "array(['Electronic City Phase II', 'Chikka Tirupathi',\n",
              "       'Lingadheeranahalli', 'Whitefield', '7th Phase JP Nagar',\n",
              "       'Sarjapur', 'Mysore Road', 'Bisuvanahalli',\n",
              "       'Raja Rajeshwari Nagar', 'Ramakrishnappa Layout', 'Binny Pete',\n",
              "       'Thanisandra', ' Thanisandra', 'Electronic City',\n",
              "       'Ramagondanahalli', 'Yelahanka', 'Hebbal', 'Kanakpura Road',\n",
              "       'Kundalahalli', 'Sarjapur  Road', 'Ganga Nagar', 'Doddathoguru',\n",
              "       'Adarsh Nagar', 'Bhoganhalli', 'Lakshminarayana Pura',\n",
              "       'Begur Road', 'Varthur', 'Gunjur', 'Hegde Nagar', 'Haralur Road',\n",
              "       'Hennur Road', 'Cholanayakanahalli', 'Kodanda Reddy Layout',\n",
              "       'EPIP Zone', 'Dasanapura', 'Kasavanhalli', 'Sanjay nagar',\n",
              "       'Kengeri', 'Yeshwanthpur', 'Chandapura', 'Kothanur',\n",
              "       'Green View Layout', 'Shantiniketan Layout', 'Rajaji Nagar',\n",
              "       'Devanahalli', 'Byatarayanapura', 'Akshaya Nagar',\n",
              "       'LB Shastri Nagar', 'Hormavu', 'Peenya', 'Kudlu Gate',\n",
              "       '8th Phase JP Nagar', 'Chandra Layout', 'Anandapura',\n",
              "       'Kengeri Satellite Town', 'Basavanapura', 'Kannamangala',\n",
              "       'Hulimavu', 'Hosa Road', 'Keshava Nagar', 'RMV Extension',\n",
              "       'Tejaswini Nagar', 'Jai Bheema Nagar', 'Attibele',\n",
              "       'CV Raman Nagar', 'Malleshwaram', 'Hebbal Kempapura',\n",
              "       'Vijayanagar', 'KR Puram', 'Marathahalli', 'Pattandur Agrahara',\n",
              "       'HSR Layout', 'Kadugodi', 'Kogilu', 'Panathur', 'Kammasandra',\n",
              "       'Electronics City Phase 1', 'Tala Cauvery Layout', 'Dasarahalli',\n",
              "       'Koramangala', 'Muthurayya Swamy Layout', 'Budigere',\n",
              "       'Dodda Nekkundi Extension', 'Mylasandra', 'Kalyan nagar',\n",
              "       'Ashwath Nagar', 'Ncpr Industrial Layout', 'Meenakunte',\n",
              "       'OMBR Layout', 'Coffee Board Layout', 'Ambedkar Nagar',\n",
              "       'Geleyara Balaga Layout', 'Kalena Agrahara', 'Talaghattapura',\n",
              "       'Balagere', 'Jigani', 'Gollarapalya Hosahalli', 'Old Madras Road',\n",
              "       'Silver Springs Layout', '9th Phase JP Nagar', 'Jakkur',\n",
              "       'Maruthi Sevanagar', 'RMV 2nd Stage', 'Singasandra', 'AECS Layout',\n",
              "       'Mallasandra', 'Begur', 'JP Nagar', 'Sunder Ram Shetty Nagar',\n",
              "       'Motappa Layout', 'Kaval Byrasandra', 'Kaggalipura',\n",
              "       'Basavanna Nagar', '6th Phase JP Nagar', 'Ulsoor', 'Uttarahalli',\n",
              "       'Thigalarapalya', ' Devarachikkanahalli', 'Bommasandra',\n",
              "       'Prashanth Nagar', 'Suragajakkanahalli', 'Ardendale', 'Harlur',\n",
              "       'Sampigehalli', 'Kodihalli', 'Magadi Road', 'Narayanapura',\n",
              "       'Hennur', '5th Phase JP Nagar', 'Kodigehaali', 'Bannerghatta Road',\n",
              "       'Gopalapura', 'Billekahalli', 'Jalahalli', 'Sompura',\n",
              "       'Ashirvad Colony', 'Dodda Nekkundi', 'Hosur Road', 'Amco Colony',\n",
              "       'Ambalipura', 'Hoodi', 'Samethanahalli', 'Brookefield',\n",
              "       'Suddaguntepalya', 'Udayapur Village', 'Bellandur', 'Vittasandra',\n",
              "       'Giri Nagar', 'Chikkabidarakallu', '1 Giri Nagar', 'Hoysalanagar',\n",
              "       'Defence Colony', 'Amruthahalli', 'Patelappa Layout',\n",
              "       'Subramanyapura', '3rd Block Hrbr Layout', 'Surabhi Layout',\n",
              "       'Omkar Nagar', 'Kambipura', 'VHBCS Layout', 'Rajiv Nagar',\n",
              "       'Gattahalli', 'Arekere', 'Mico Layout', 'Munnekollal',\n",
              "       'Banashankari Stage III', 'Dooravani Nagar', 'JCR Layout',\n",
              "       'Nehru Nagar', 'Sneha Colony', 'Konanakunte', 'Ashwini layout',\n",
              "       'Gottigere', 'HRBR Layout', 'Kanakapura', 'Tumkur Road',\n",
              "       'Hosahalli', 'Jalahalli West', 'GM Palaya', 'Jalahalli East',\n",
              "       'Hosakerehalli', 'Nagondanahalli', 'Shanthala Nagar',\n",
              "       'Bettahalsoor', 'Ambedkar Colony', 'Avalahalli', 'Prakruthi Nagar',\n",
              "       'Abbigere', 'Tindlu', 'Green Garden Layout', 'Gubbalala',\n",
              "       'Dairy Circle', 'Narayana Nagar 1st Block', 'KSRTC Layout',\n",
              "       'New Gurappana Palya', 'Palanahalli', 'Vadarpalya', 'Kudlu',\n",
              "       'Old Airport Road', 'Vishwapriya Layout', 'Banashankari Stage VI',\n",
              "       'Battarahalli', 'HMT Layout', 'Kaggadasapura', 'ITI Layout',\n",
              "       'Yelahanka New Town', 'Sahakara Nagar', 'Rachenahalli',\n",
              "       'Kodbisanhalli', 'Kodichikkanahalli', 'Bendiganahalli',\n",
              "       'Ferrar Nagar', 'Green Glen Layout', 'M.G Road',\n",
              "       'Horamavu Banaswadi', '1st Phase JP Nagar', 'Kaverappa Layout',\n",
              "       'Devarabisanahalli', 'Somasundara Palya', 'Vidyaranyapura',\n",
              "       'Babusapalaya', 'Nagappa Reddy Layout', 'TC Palaya',\n",
              "       'Suraksha Nagar', 'Iblur Village', 'Yelachenahalli',\n",
              "       'Basava Nagar', '2nd Block Hrbr Layout', 'Basapura',\n",
              "       'Channasandra', 'Singena Agrahara', 'Mango Garden Layout',\n",
              "       'Choodasandra', 'Indira Nagar', 'Sai Gardens', 'Mahadevpura',\n",
              "       'Hanumanth Nagar', 'Basaveshwara Nagar', 'Kaikondrahalli',\n",
              "       'Hunasamaranahalli', 'RWF West Colony', 'Bileshivale',\n",
              "       'Neeladri Nagar', 'Frazer Town', 'Jaya Nagar East', 'Iggalur',\n",
              "       'Banashankari', 'Chamrajpet', 'VGP Layout', 'Vasanth nagar',\n",
              "       'Kalkere', 'Siddapura', 'Maragondanahalli', 'Ramamurthy Nagar',\n",
              "       'Garudachar Palya', 'Roopena Agrahara', 'Gollahalli',\n",
              "       'Sonnenahalli', 'D Souza Layout', 'Nagarbhavi', 'Bommanahalli',\n",
              "       'Chikkalasandra', 'Dommasandra', 'Byadarahalli', 'Judicial Layout',\n",
              "       'Outer Ring Road East', 'Vinayaka Nagar', 'GB Palya',\n",
              "       'Ashwathnagar', 'Kasturi Nagar', 'Belathur', 'Srirampura',\n",
              "       'Devanahalli Road', 'Ejipura', 'Green Woods Layout',\n",
              "       'Craig Park Layout', 'Immadihalli', 'Muneshwara Nagar',\n",
              "       'Rayasandra', 'Malleshpalya', 'Parappana Agrahara',\n",
              "       'Lakshmi Layout', 'Thirumenahalli', 'KPC Layout',\n",
              "       'Daadys Gaarden Layout', 'Kothannur', 'Marsur', 'Karuna Nagar',\n",
              "       'Kallumantapa', 'Malimakanapura', 'Medahalli',\n",
              "       'Rustam Bagh Layout', 'Garden Layout', 'T K Reddy Layout',\n",
              "       'Doddanekundi', 'Venkatadri Layout', 'Bommenahalli',\n",
              "       'Mahaganapathy Nagar', 'HBR Layout', 'Vittal Nagar',\n",
              "       'Bhuvaneshwari Nagar', 'Prithvi Layout', 'Domlur', 'Thubarahalli',\n",
              "       'Jaya Mahal layout', 'BSM Extension', 'Vijinapura', 'Byrasandra',\n",
              "       'Chowdeshwari Layout', 'Sector 2 HSR Layout', 'Padmanabhanagar',\n",
              "       'Badavala Nagar', '4th Block Koramangala', 'Belatur',\n",
              "       'Nallurhalli', 'Kereguddadahalli', 'Laxmi Sagar Layout',\n",
              "       'Bannerghatta', 'Harappanahalli', 'BTM Layout', 'Kanaka Nagar',\n",
              "       'NR Colony', 'Byagadadhenahalli', 'Doddabommasandra',\n",
              "       'Sarjapura - Attibele Road', 'Maruthi Layout',\n",
              "       'Sree Narayana Nagar', 'Tunganagara', 'Nagavara',\n",
              "       'Remco Bhel Layout', 'Chokkasandra', 'Panduranga Nagar',\n",
              "       'Jakkur Plantation', '1st Block Koramangala',\n",
              "       'Shree Ananth Nagar Layout', 'Hoskote', 'Sector 1 HSR Layout',\n",
              "       'BTM 2nd Stage', 'Ananth Nagar', 'Sundar Ram Shetty Nagar',\n",
              "       'Alfa Garden Layout', 'Hoodi Layout', 'Seegehalli',\n",
              "       'Gaundanapalya', '2nd Phase JP Nagar', 'Doctors Layout',\n",
              "       'Basavangudi', 'Vishwapriya Nagar', 'Sarakki Nagar', 'R.T. Nagar',\n",
              "       'Sector 7 HSR Layout', 'Hennur Gardens',\n",
              "       'Howthinarayanappa Garden', 'Bharathi Nagar', 'Cambridge Layout',\n",
              "       'Doddakannelli', 'Cox Town', 'Pulkeshi Nagar', 'Jayanagar',\n",
              "       ' Bhoganhalli', 'Pai Layout', '8th block Koramangala', 'Bidadi',\n",
              "       'Amruthnagar', 'Sathya Sai Layout', 'Rajiv Gandhi Nagar', 'Anekal',\n",
              "       'Bhagyalakshmi Avenue', 'Doddaballapur', 'Horamavu Agara',\n",
              "       'Chinnapanahalli', 'Balaji Gardens Layout', ' Rachenahalli',\n",
              "       'Akshaya Vana', 'Channasandra Layout', 'Gopalkrishna Nagar',\n",
              "       'Keerthi Layout', 'Shikaripalya', 'Hagadur', 'Soundarya Layout',\n",
              "       'Cunningham Road', 'Dollars Layout', 'Nagavarapalya',\n",
              "       'Sultan Palaya', 'Gopal Reddy Layout', 'Thurahalli',\n",
              "       'Murugeshpalya', 'Kadubeesanahalli', 'Cleveland Town',\n",
              "       'Kada Agrahara', 'Bellari Road', 'Abbaiah Reddy Layout',\n",
              "       'Tata Nagar', ' Devarabeesana Halli', 'Brindavan Nagar',\n",
              "       'Seetharampalya', 'B Narayanapura', 'Raghuvanahalli',\n",
              "       'Wilson Garden', 'Challaghatta', 'KR Garden', 'Kathriguppe',\n",
              "       'Sahyadri Layout', 'Bagalur', 'P Krishnappa Layout',\n",
              "       'Crimson Layout', 'Kyalasanahalli', 'Ckikkakammana Halli',\n",
              "       'Munivenkatppa Layout', 'Vijaya Bank Layout', 'Kumarapalli',\n",
              "       'Lingarajapuram', 'Vasantha Vallabha Nagar', 'Kalhalli',\n",
              "       'Kumaraswami Layout', 'Hadosiddapura', 'Kachanayakanahalli',\n",
              "       'Yelenahalli', '6th block Koramangala', 'Vignana Nagar',\n",
              "       'Canara Bank Colony', 'Hanumagiri', 'Benson Town',\n",
              "       'Akshayanagara West', 'OLd Gurappanapalya', 'Ramanjaneyanagar',\n",
              "       'B Channasandra', 'New Thippasandra', 'Gattigere', 'Kamakshipalya',\n",
              "       'Dollars Colony', 'Pragathi Nagar', 'HAL 2nd Stage',\n",
              "       'Poorna Pragna Layout', 'Kenchenahalli', 'Kundalahalli Colony',\n",
              "       'Amblipura', 'Vimanapura', 'Dodsworth Layout', 'Devasthanagalu',\n",
              "       'Venugopal Reddy Layout', 'Lake City', 'S R Layout',\n",
              "       'Sadduguntepalya', 'Mallathahalli', 'Doddakammanahalli',\n",
              "       'Chikkathoguru', 'Richards Town', 'BCC Layout', 'Vinayak Nagar',\n",
              "       'Jaladarsini Layout', 'Brooke Bond First Cross',\n",
              "       'Glass Factory Layout', 'Raghavendra Nagar', 'Bhuvaneswari Nagar',\n",
              "       ' Electronic City', 'Mathikere', 'Kempegowda Nagar',\n",
              "       'Nyanappana Halli', 'Nelamangala', ' Whitefield',\n",
              "       'Vaishnavi Layout', 'Naganathapura', 'Venkatapura',\n",
              "       '3rd Phase JP Nagar', 'Devarachikkanahalli', 'Anjanapura',\n",
              "       'Reliaable Tranquil Layout', 'Mailasandra', 'Chelekare',\n",
              "       'Doopanahalli', 'Volagerekallahalli', 'Kattigenahalli',\n",
              "       'Varthur Road', 'Bethel Nagar', 'Dollar Scheme Colony',\n",
              "       'Omarbagh Layout', 'Aishwarya Crystal Layout',\n",
              "       '2nd Block Jayanagar', 'Nayandanahalli', 'DUO Layout',\n",
              "       'ISRO Layout', 'Hennur Bande', 'Shampura', 'Langford Gardens',\n",
              "       'Richmond Town', 'Vishwanatha Nagenahalli', 'Friends Colony',\n",
              "       'Shettigere', 'Rahat Bagh', 'NTI Layout', 'Gunjur Palya',\n",
              "       'Maithri Layout', 'Nobo Nagar', 'Krishna Reddy Layout',\n",
              "       'Kuvempu Layout', 'Kaveri Nagar', 'Devi Nagar', 'Chikkabanavar',\n",
              "       'Bommasandra Industrial Area', 'Stage-4 Bommanahalli',\n",
              "       'Banashankari Stage V', 'Manorayana Palya', 'Sathya Layout',\n",
              "       'Shanti Nagar', 'Jayamahal', 'Veer Sandra', 'Chennappa Layout',\n",
              "       'Jeevan bima nagar', 'Lavakusha Nagar', 'Vittal Mallya Road',\n",
              "       'Dena Bank Colony', 'Doddabidrakallu', 'NGR Layout',\n",
              "       'Jnana Ganga Nagar', 'Ittamadu', 'Chokkanahalli', 'Vikram Nagar',\n",
              "       'Sarvabhouma Nagar', 'Coconut Grove Layout', 'Kadabagere',\n",
              "       'Anand Nagar', 'Kammanahalli', 'Janatha Colony',\n",
              "       '1st Block Jayanagar', 'Veersandra', 'Kumbena Agrahara',\n",
              "       'Hiremath Layout', 'Nagadevanahalli', 'Yemlur',\n",
              "       'Ramamurthy Nagar Extension', 'Himagiri Meadows',\n",
              "       'Narayanappa Garden', 'Kempapura', 'Carmelaram', 'Ankappa Layout',\n",
              "       'Jakkuru Layout', 'Maruthi Nagar', 'Punappa Layout',\n",
              "       'Pampa Extension', 'Banaswadi', 'Sanne Amanikere',\n",
              "       '2nd Stage Arekere Mico Layout', 'BCMC Layout', 'Uday Nagar',\n",
              "       'Chaitanya Ananya', 'Kacharakanahalli', 'Tigalarpalya',\n",
              "       ' Banaswadi', 'Sugama Layout', 'Hongasandra', 'Anugrah Layout',\n",
              "       'Bandepalya', 'AMS Layout', 'RPC layout', 'Gulimangala',\n",
              "       'Addischetan Layout', 'Sadaramangala', 'Konena Agrahara',\n",
              "       'Raghavendra Layout', 'Varsova Layout',\n",
              "       'Raja Rajeshwari Nagar 5th Stage', '7th Block Jayanagar',\n",
              "       'Bande Nallasandra', 'Upkar Layout', 'Singapura Village',\n",
              "       'Canara Bank Layout', 'Queens Road', 'Hosapalya', 'Jagadish Nagar',\n",
              "       'Rajasree Layout', 'Chikkadunnasandra', 'Thirumalashettyhally',\n",
              "       'Vibuthipura', 'Kodigehalli', 'P&T Layout', 'Varanasi',\n",
              "       'Virudhu Nagar', 'Ramanashree Enclave', 'Chikku Lakshmaiah Layout',\n",
              "       'Shivaji Nagar', 'Chikkagubbi', 'Kammagondahalli',\n",
              "       'Yeshwanthpur Industrial Suburb', 'Thirupalya', 'Tirumanahalli',\n",
              "       'ITPL', 'NRI Layout', 'Adugodi', 'Sidedahalli', 'Shanthi Pura',\n",
              "       'Anwar Layout', 'Doddanakundi Industrial Area 2', 'RBI Layout',\n",
              "       'Shauhardha Layout', 'Bhoopsandra', '3rd Block Koramangala',\n",
              "       'Kuvempu Nagar', 'Sri Balaji Krupa Layout', \"St. John's Road\",\n",
              "       'Govindapura', 'Ayappa Nagar', 'Hessarghatta', 'Anantapuram',\n",
              "       'Chikka Banaswadi', 'Akshayanagara East', 'Guddadahalli',\n",
              "       'Kashi Nagar', 'Nanjappa Garden', 'Allalasandra',\n",
              "       'Maheswari Nagar', 'Udayagiri', 'Mahalakshmi Layout',\n",
              "       'Rahmath Nagar', 'Halanayakanahalli', 'Air View Colony',\n",
              "       'Amam Enclave Layout', 'Anantapura', 'Mallappa Layout',\n",
              "       'Devarabeesana Halli', 'Chikbasavanapura', 'Jogupalya',\n",
              "       'Gulakamale', 'Mahalakshmi Puram', 'Jakkasandra', 'Cooke Town',\n",
              "       'Virupakshapura', 'Kenchenhalli', 'Church Street',\n",
              "       'Sarvobhogam Nagar', 'Near International Airport', 'Palace Road',\n",
              "       'Abshot Layout'], dtype=object)"
            ]
          },
          "execution_count": 27,
          "metadata": {},
          "output_type": "execute_result"
        }
      ],
      "source": [
        "df4.location.unique() #many unique locations are present"
      ]
    },
    {
      "cell_type": "code",
      "execution_count": 28,
      "metadata": {
        "colab": {
          "base_uri": "https://localhost:8080/"
        },
        "id": "v-Z5vQGk3r82",
        "outputId": "0e1522af-ff00-4ce5-ffc2-2ecb13d7e52b"
      },
      "outputs": [
        {
          "data": {
            "text/plain": [
              "633"
            ]
          },
          "execution_count": 28,
          "metadata": {},
          "output_type": "execute_result"
        }
      ],
      "source": [
        "len(df4.location.unique())"
      ]
    },
    {
      "cell_type": "code",
      "execution_count": 29,
      "metadata": {
        "colab": {
          "base_uri": "https://localhost:8080/"
        },
        "id": "_ZZVFikP4ME3",
        "outputId": "e28e1077-d466-4f67-9d90-df103962423a"
      },
      "outputs": [
        {
          "data": {
            "text/plain": [
              "location\n",
              "Whitefield                        382\n",
              "Sarjapur  Road                    297\n",
              "Electronic City                   231\n",
              "Thanisandra                       209\n",
              "Kanakpura Road                    195\n",
              "                                 ... \n",
              "Kattigenahalli                      1\n",
              "Kashi Nagar                         1\n",
              "Kamakshipalya                       1\n",
              "Kalhalli                            1\n",
              "Yeshwanthpur Industrial Suburb      1\n",
              "Name: location, Length: 625, dtype: int64"
            ]
          },
          "execution_count": 29,
          "metadata": {},
          "output_type": "execute_result"
        }
      ],
      "source": [
        "df4.location = df4.location.apply(lambda x : x.strip())\n",
        "location_stats = df4.groupby('location')['location'].agg('count').sort_values(ascending = False)\n",
        "location_stats"
      ]
    },
    {
      "cell_type": "code",
      "execution_count": 30,
      "metadata": {
        "colab": {
          "base_uri": "https://localhost:8080/"
        },
        "id": "hMCskZuB5Jiy",
        "outputId": "4a692c3e-15e4-4d87-95dd-8e513729fc55"
      },
      "outputs": [
        {
          "data": {
            "text/plain": [
              "486"
            ]
          },
          "execution_count": 30,
          "metadata": {},
          "output_type": "execute_result"
        }
      ],
      "source": [
        "len(location_stats[location_stats<=10])"
      ]
    },
    {
      "cell_type": "code",
      "execution_count": 31,
      "metadata": {
        "colab": {
          "base_uri": "https://localhost:8080/"
        },
        "id": "rs_Obrsu5mDC",
        "outputId": "b20b7509-533e-4dd8-f87f-76babbda169e"
      },
      "outputs": [
        {
          "data": {
            "text/plain": [
              "location\n",
              "Amruthahalli                      10\n",
              "Vidyaranyapura                    10\n",
              "Dairy Circle                      10\n",
              "Marsur                            10\n",
              "Rayasandra                        10\n",
              "                                  ..\n",
              "Kattigenahalli                     1\n",
              "Kashi Nagar                        1\n",
              "Kamakshipalya                      1\n",
              "Kalhalli                           1\n",
              "Yeshwanthpur Industrial Suburb     1\n",
              "Name: location, Length: 486, dtype: int64"
            ]
          },
          "execution_count": 31,
          "metadata": {},
          "output_type": "execute_result"
        }
      ],
      "source": [
        "location_stats_less_than_10 = location_stats[location_stats<=10]\n",
        "location_stats_less_than_10"
      ]
    },
    {
      "cell_type": "code",
      "execution_count": 32,
      "metadata": {
        "colab": {
          "base_uri": "https://localhost:8080/"
        },
        "id": "OS1lMXmQ55yF",
        "outputId": "f9bdcf07-c320-44cb-86ca-b3f21fbae301"
      },
      "outputs": [
        {
          "data": {
            "text/plain": [
              "140"
            ]
          },
          "execution_count": 32,
          "metadata": {},
          "output_type": "execute_result"
        }
      ],
      "source": [
        "df4.location = df4.location.apply(lambda x: 'other' if x in location_stats_less_than_10 else x)\n",
        "len(df4.location.unique())"
      ]
    },
    {
      "cell_type": "code",
      "execution_count": 33,
      "metadata": {
        "colab": {
          "base_uri": "https://localhost:8080/"
        },
        "id": "sQU5H-A7BJZX",
        "outputId": "4c865a60-b185-4d08-8204-587e89992466"
      },
      "outputs": [
        {
          "data": {
            "text/plain": [
              "(7129, 7)"
            ]
          },
          "execution_count": 33,
          "metadata": {},
          "output_type": "execute_result"
        }
      ],
      "source": [
        "df4.shape"
      ]
    },
    {
      "cell_type": "code",
      "execution_count": 34,
      "metadata": {
        "colab": {
          "base_uri": "https://localhost:8080/"
        },
        "id": "_1sChH8ABTEY",
        "outputId": "fbeed414-47fa-4d18-c040-7b9a0908bccc"
      },
      "outputs": [
        {
          "data": {
            "text/plain": [
              "(7089, 7)"
            ]
          },
          "execution_count": 34,
          "metadata": {},
          "output_type": "execute_result"
        }
      ],
      "source": [
        "df5 = df4[~(df4.total_sqft/df4.bhk<300)]\n",
        "df5.shape"
      ]
    },
    {
      "cell_type": "code",
      "execution_count": 35,
      "metadata": {
        "colab": {
          "base_uri": "https://localhost:8080/",
          "height": 568
        },
        "id": "tCwJC-aUCb75",
        "outputId": "32916a83-02c9-41e2-bd88-26e93103cfeb"
      },
      "outputs": [
        {
          "data": {
            "text/plain": [
              "<AxesSubplot:xlabel='price_per_sqft'>"
            ]
          },
          "execution_count": 35,
          "metadata": {},
          "output_type": "execute_result"
        },
        {
          "data": {
            "image/png": "[encoded data removed]",
            "text/plain": [
              "<Figure size 1440x720 with 1 Axes>"
            ]
          },
          "metadata": {
            "needs_background": "light"
          },
          "output_type": "display_data"
        }
      ],
      "source": [
        "sns.boxplot(x=df5[\"price_per_sqft\"]) #many outliers are present"
      ]
    },
    {
      "cell_type": "code",
      "execution_count": 36,
      "metadata": {
        "colab": {
          "base_uri": "https://localhost:8080/"
        },
        "id": "e9z9snQ5CUuL",
        "outputId": "27d0032d-3c5a-4d1f-fd83-238c566edfb3"
      },
      "outputs": [
        {
          "data": {
            "text/plain": [
              "count     7089.000000\n",
              "mean      5886.037797\n",
              "std       2738.814973\n",
              "min        371.428571\n",
              "25%       4307.692308\n",
              "50%       5349.579832\n",
              "75%       6713.554987\n",
              "max      76530.612245\n",
              "Name: price_per_sqft, dtype: float64"
            ]
          },
          "execution_count": 36,
          "metadata": {},
          "output_type": "execute_result"
        }
      ],
      "source": [
        "df5.price_per_sqft.describe()"
      ]
    },
    {
      "cell_type": "markdown",
      "metadata": {
        "id": "HAz3bhk2Dfav"
      },
      "source": [
        "Outlier Removal Using Standard Deviation and Mean"
      ]
    },
    {
      "cell_type": "code",
      "execution_count": 37,
      "metadata": {
        "colab": {
          "base_uri": "https://localhost:8080/"
        },
        "id": "icFOHRAGCl9l",
        "outputId": "eb94a16f-5675-40e9-f6d4-b94c200a4d83"
      },
      "outputs": [
        {
          "data": {
            "text/plain": [
              "(5522, 7)"
            ]
          },
          "execution_count": 37,
          "metadata": {},
          "output_type": "execute_result"
        }
      ],
      "source": [
        "def remove_pps_outliers(df):\n",
        "    df_out = pd.DataFrame()\n",
        "    for key, subdf in df.groupby('location'):\n",
        "        m = np.mean(subdf.price_per_sqft) #mean\n",
        "        st = np.std(subdf.price_per_sqft) #standard deviation\n",
        "        reduced_df = subdf[(subdf.price_per_sqft>(m-st)) & (subdf.price_per_sqft<=(m+st))]\n",
        "        df_out = pd.concat([df_out,reduced_df],ignore_index=True)\n",
        "    return df_out\n",
        "df6 = remove_pps_outliers(df5)\n",
        "df6.shape"
      ]
    },
    {
      "cell_type": "code",
      "execution_count": 38,
      "metadata": {
        "colab": {
          "base_uri": "https://localhost:8080/",
          "height": 719
        },
        "id": "JlEAHalpEfPc",
        "outputId": "1ef4331a-0572-4cd9-d948-91d86ca0414e"
      },
      "outputs": [
        {
          "data": {
            "image/png": "[encoded data removed]",
            "text/plain": [
              "<Figure size 1080x720 with 1 Axes>"
            ]
          },
          "metadata": {
            "needs_background": "light"
          },
          "output_type": "display_data"
        }
      ],
      "source": [
        "def plot_scatter_chart(df,location):\n",
        "    bhk2 = df[(df.location==location) & (df.bhk==2)]\n",
        "    bhk3 = df[(df.location==location) & (df.bhk==3)]\n",
        "    matplotlib.rcParams['figure.figsize'] = (15,10)\n",
        "    plt.scatter(bhk2.total_sqft,bhk2.price,color='blue',label='2 BHK', s=50)\n",
        "    plt.scatter(bhk3.total_sqft,bhk3.price,marker='+', color='green',label='3 BHK', s=50)\n",
        "    plt.xlabel(\"Total Square Feet Area\")\n",
        "    plt.ylabel(\"Price (Lakh Indian Rupees)\")\n",
        "    plt.title(location)\n",
        "    plt.legend()\n",
        "\n",
        "plot_scatter_chart(df6,\"Rajaji Nagar\")"
      ]
    },
    {
      "cell_type": "code",
      "execution_count": 39,
      "metadata": {
        "colab": {
          "base_uri": "https://localhost:8080/",
          "height": 719
        },
        "id": "bWpALpaMGx0G",
        "outputId": "5b0ab1d5-fa8f-4dc8-b4ef-2b9c09d6537a"
      },
      "outputs": [
        {
          "data": {
            "image/png": "[encoded data removed]",
            "text/plain": [
              "<Figure size 1080x720 with 1 Axes>"
            ]
          },
          "metadata": {
            "needs_background": "light"
          },
          "output_type": "display_data"
        }
      ],
      "source": [
        "plot_scatter_chart(df6,\"Hebbal\")"
      ]
    },
    {
      "cell_type": "code",
      "execution_count": 40,
      "metadata": {
        "colab": {
          "base_uri": "https://localhost:8080/",
          "height": 719
        },
        "id": "Qz2fvWq_G5Vn",
        "outputId": "e23cfd4f-f63f-4f9d-c2cc-b6d63eb65a2a"
      },
      "outputs": [
        {
          "data": {
            "image/png": "[encoded data removed]",
            "text/plain": [
              "<Figure size 1080x720 with 1 Axes>"
            ]
          },
          "metadata": {
            "needs_background": "light"
          },
          "output_type": "display_data"
        }
      ],
      "source": [
        "plot_scatter_chart(df6,\"Whitefield\")"
      ]
    },
    {
      "cell_type": "markdown",
      "metadata": {
        "id": "yTvB-VrVHXSb"
      },
      "source": [
        "We should also remove properties where for same location, the price of (for example) 3 bedroom apartment is less than 2 bedroom apartment (with same square ft area). What we will do is for a given location, we will build a dictionary of stats per bhk, i.e.\n",
        "\n",
        "{\n",
        "    '1' : {\n",
        "        'mean': 4000,\n",
        "        'std: 2000,\n",
        "        'count': 34\n",
        "    },\n",
        "    '2' : {\n",
        "        'mean': 4300,\n",
        "        'std: 2300,\n",
        "        'count': 22\n",
        "    },    \n",
        "}\n",
        "Now we can remove those 2 BHK apartments whose price_per_sqft is less than mean price_per_sqft of 1 BHK apartment"
      ]
    },
    {
      "cell_type": "code",
      "execution_count": 41,
      "metadata": {
        "colab": {
          "base_uri": "https://localhost:8080/"
        },
        "id": "WcaWdg9qHabY",
        "outputId": "4f962c7f-4f48-44b7-c369-fb0986a939ef"
      },
      "outputs": [
        {
          "data": {
            "text/plain": [
              "(3813, 7)"
            ]
          },
          "execution_count": 41,
          "metadata": {},
          "output_type": "execute_result"
        }
      ],
      "source": [
        "def remove_bhk_outliers(df):\n",
        "    exclude_indices = np.array([])\n",
        "    for location, location_df in df.groupby('location'):\n",
        "        bhk_stats = {}\n",
        "        for bhk, bhk_df in location_df.groupby('bhk'):\n",
        "            bhk_stats[bhk] = {\n",
        "                'mean': np.mean(bhk_df.price_per_sqft), #new dataset created for location based on Location\n",
        "                'std': np.std(bhk_df.price_per_sqft),\n",
        "                'count': bhk_df.shape[0]\n",
        "            }\n",
        "        for bhk, bhk_df in location_df.groupby('bhk'):\n",
        "            stats = bhk_stats.get(bhk-1)\n",
        "            if stats and stats['count']>5:\n",
        "                exclude_indices = np.append(exclude_indices, bhk_df[bhk_df.price_per_sqft<(stats['mean'])].index.values)\n",
        "                 #data points which lie neyond mean are removed\n",
        "    return df.drop(exclude_indices,axis='index')\n",
        "df7 = remove_bhk_outliers(df6)\n",
        "df8 = df7.copy()\n",
        "df8.shape"
      ]
    },
    {
      "cell_type": "code",
      "execution_count": 42,
      "metadata": {
        "colab": {
          "base_uri": "https://localhost:8080/",
          "height": 719
        },
        "id": "dOY_ysQCIxko",
        "outputId": "a8ba1496-4b7a-4ccc-ff52-0b50d7e07be8"
      },
      "outputs": [
        {
          "data": {
            "image/png": "[encoded data removed]",
            "text/plain": [
              "<Figure size 1080x720 with 1 Axes>"
            ]
          },
          "metadata": {
            "needs_background": "light"
          },
          "output_type": "display_data"
        }
      ],
      "source": [
        "plot_scatter_chart(df8,\"Hebbal\")"
      ]
    },
    {
      "cell_type": "code",
      "execution_count": 43,
      "metadata": {
        "colab": {
          "base_uri": "https://localhost:8080/",
          "height": 553
        },
        "id": "l6TC3fthI_PI",
        "outputId": "81f452c1-2d8b-4c51-973a-ac6034306afe"
      },
      "outputs": [
        {
          "data": {
            "text/plain": [
              "Text(0, 0.5, 'Count')"
            ]
          },
          "execution_count": 43,
          "metadata": {},
          "output_type": "execute_result"
        },
        {
          "data": {
            "image/png": "[encoded data removed]",
            "text/plain": [
              "<Figure size 1440x720 with 1 Axes>"
            ]
          },
          "metadata": {
            "needs_background": "light"
          },
          "output_type": "display_data"
        }
      ],
      "source": [
        "\n",
        "import matplotlib\n",
        "matplotlib.rcParams[\"figure.figsize\"] = (20,10)\n",
        "plt.hist(df8.price_per_sqft,rwidth=0.8)\n",
        "plt.xlabel(\"Price Per Square Feet\")\n",
        "plt.ylabel(\"Count\")"
      ]
    },
    {
      "cell_type": "markdown",
      "metadata": {
        "id": "EyqgXkGmK1lh"
      },
      "source": [
        "NEXT FEATURE OUTLIER REMOVAL\n"
      ]
    },
    {
      "cell_type": "code",
      "execution_count": 44,
      "metadata": {
        "colab": {
          "base_uri": "https://localhost:8080/"
        },
        "id": "rC_IizFsK2Vv",
        "outputId": "c1af03bb-ea43-47a6-d7b8-0bcb2a6df058"
      },
      "outputs": [
        {
          "data": {
            "text/plain": [
              "array([4., 3., 2., 5., 1., 6., 7., 9.])"
            ]
          },
          "execution_count": 44,
          "metadata": {},
          "output_type": "execute_result"
        }
      ],
      "source": [
        "df8.bath.unique()"
      ]
    },
    {
      "cell_type": "code",
      "execution_count": 45,
      "metadata": {
        "colab": {
          "base_uri": "https://localhost:8080/",
          "height": 573
        },
        "id": "Fe-irXJXLv9B",
        "outputId": "fd52e8de-446e-4086-fb68-2e617b3d3b3d"
      },
      "outputs": [
        {
          "data": {
            "text/plain": [
              "<AxesSubplot:xlabel='bath'>"
            ]
          },
          "execution_count": 45,
          "metadata": {},
          "output_type": "execute_result"
        },
        {
          "data": {
            "image/png": "[encoded data removed]",
            "text/plain": [
              "<Figure size 1440x720 with 1 Axes>"
            ]
          },
          "metadata": {
            "needs_background": "light"
          },
          "output_type": "display_data"
        }
      ],
      "source": [
        "sns.boxplot(x=df8[\"bath\"]) #a few outliers are present"
      ]
    },
    {
      "cell_type": "code",
      "execution_count": 46,
      "metadata": {
        "colab": {
          "base_uri": "https://localhost:8080/",
          "height": 567
        },
        "id": "M16rIYcAL7_5",
        "outputId": "e4fbcec5-b3b7-4228-f699-71a22a159d76"
      },
      "outputs": [
        {
          "data": {
            "text/plain": [
              "Text(0.5, 0, 'Count')"
            ]
          },
          "execution_count": 46,
          "metadata": {},
          "output_type": "execute_result"
        },
        {
          "data": {
            "image/png": "[encoded data removed]",
            "text/plain": [
              "<Figure size 1440x720 with 1 Axes>"
            ]
          },
          "metadata": {
            "needs_background": "light"
          },
          "output_type": "display_data"
        }
      ],
      "source": [
        "sns.histplot(x=df8[\"bath\"])\n",
        "plt.title(\"BATHROOM SIZES\")\n",
        "plt.ylabel(\"Number of bathrooms\")\n",
        "plt.xlabel(\"Count\")"
      ]
    },
    {
      "cell_type": "code",
      "execution_count": 47,
      "metadata": {
        "colab": {
          "base_uri": "https://localhost:8080/",
          "height": 49
        },
        "id": "VK2GqiH3LGot",
        "outputId": "7f4c95e3-b470-455a-f604-e5d2265e8e32"
      },
      "outputs": [
        {
          "data": {
            "text/html": [
              "<div>\n",
              "<style scoped>\n",
              "    .dataframe tbody tr th:only-of-type {\n",
              "        vertical-align: middle;\n",
              "    }\n",
              "\n",
              "    .dataframe tbody tr th {\n",
              "        vertical-align: top;\n",
              "    }\n",
              "\n",
              "    .dataframe thead th {\n",
              "        text-align: right;\n",
              "    }\n",
              "</style>\n",
              "<table border=\"1\" class=\"dataframe\">\n",
              "  <thead>\n",
              "    <tr style=\"text-align: right;\">\n",
              "      <th></th>\n",
              "      <th>location</th>\n",
              "      <th>size</th>\n",
              "      <th>total_sqft</th>\n",
              "      <th>bath</th>\n",
              "      <th>price</th>\n",
              "      <th>bhk</th>\n",
              "      <th>price_per_sqft</th>\n",
              "    </tr>\n",
              "  </thead>\n",
              "  <tbody>\n",
              "  </tbody>\n",
              "</table>\n",
              "</div>"
            ],
            "text/plain": [
              "Empty DataFrame\n",
              "Columns: [location, size, total_sqft, bath, price, bhk, price_per_sqft]\n",
              "Index: []"
            ]
          },
          "execution_count": 47,
          "metadata": {},
          "output_type": "execute_result"
        }
      ],
      "source": [
        "df8[df8.bath>10]"
      ]
    },
    {
      "cell_type": "code",
      "execution_count": 48,
      "metadata": {
        "colab": {
          "base_uri": "https://localhost:8080/",
          "height": 112
        },
        "id": "tJNX8XFQLL5b",
        "outputId": "189c7558-9839-4330-906b-50ee95c2014a"
      },
      "outputs": [
        {
          "data": {
            "text/html": [
              "<div>\n",
              "<style scoped>\n",
              "    .dataframe tbody tr th:only-of-type {\n",
              "        vertical-align: middle;\n",
              "    }\n",
              "\n",
              "    .dataframe tbody tr th {\n",
              "        vertical-align: top;\n",
              "    }\n",
              "\n",
              "    .dataframe thead th {\n",
              "        text-align: right;\n",
              "    }\n",
              "</style>\n",
              "<table border=\"1\" class=\"dataframe\">\n",
              "  <thead>\n",
              "    <tr style=\"text-align: right;\">\n",
              "      <th></th>\n",
              "      <th>location</th>\n",
              "      <th>size</th>\n",
              "      <th>total_sqft</th>\n",
              "      <th>bath</th>\n",
              "      <th>price</th>\n",
              "      <th>bhk</th>\n",
              "      <th>price_per_sqft</th>\n",
              "    </tr>\n",
              "  </thead>\n",
              "  <tbody>\n",
              "    <tr>\n",
              "      <th>3496</th>\n",
              "      <td>Thanisandra</td>\n",
              "      <td>3 BHK</td>\n",
              "      <td>1806.0</td>\n",
              "      <td>6.0</td>\n",
              "      <td>116.0</td>\n",
              "      <td>3</td>\n",
              "      <td>6423.034330</td>\n",
              "    </tr>\n",
              "    <tr>\n",
              "      <th>4528</th>\n",
              "      <td>other</td>\n",
              "      <td>6 BHK</td>\n",
              "      <td>11338.0</td>\n",
              "      <td>9.0</td>\n",
              "      <td>1000.0</td>\n",
              "      <td>6</td>\n",
              "      <td>8819.897689</td>\n",
              "    </tr>\n",
              "  </tbody>\n",
              "</table>\n",
              "</div>"
            ],
            "text/plain": [
              "         location   size  total_sqft  bath   price  bhk  price_per_sqft\n",
              "3496  Thanisandra  3 BHK      1806.0   6.0   116.0    3     6423.034330\n",
              "4528        other  6 BHK     11338.0   9.0  1000.0    6     8819.897689"
            ]
          },
          "execution_count": 48,
          "metadata": {},
          "output_type": "execute_result"
        }
      ],
      "source": [
        "df8[df8.bath>df8.bhk+2]"
      ]
    },
    {
      "cell_type": "code",
      "execution_count": 49,
      "metadata": {
        "colab": {
          "base_uri": "https://localhost:8080/"
        },
        "id": "9I2V4v69LUkp",
        "outputId": "455566a9-23f6-4f55-e6e4-84a3ac54e4ee"
      },
      "outputs": [
        {
          "data": {
            "text/plain": [
              "(3773, 7)"
            ]
          },
          "execution_count": 49,
          "metadata": {},
          "output_type": "execute_result"
        }
      ],
      "source": [
        "df9 = df8[df8.bath<df8.bhk+2] #removing bathrooms if number of bathroom > bedroom + 2\n",
        "df9.shape"
      ]
    },
    {
      "cell_type": "code",
      "execution_count": 50,
      "metadata": {
        "colab": {
          "base_uri": "https://localhost:8080/",
          "height": 677
        },
        "id": "LbvV3zJqLWpP",
        "outputId": "80ae0d8a-2450-4204-9cc3-617fd553d7c0"
      },
      "outputs": [
        {
          "data": {
            "text/html": [
              "<div>\n",
              "<style scoped>\n",
              "    .dataframe tbody tr th:only-of-type {\n",
              "        vertical-align: middle;\n",
              "    }\n",
              "\n",
              "    .dataframe tbody tr th {\n",
              "        vertical-align: top;\n",
              "    }\n",
              "\n",
              "    .dataframe thead th {\n",
              "        text-align: right;\n",
              "    }\n",
              "</style>\n",
              "<table border=\"1\" class=\"dataframe\">\n",
              "  <thead>\n",
              "    <tr style=\"text-align: right;\">\n",
              "      <th></th>\n",
              "      <th>location</th>\n",
              "      <th>size</th>\n",
              "      <th>total_sqft</th>\n",
              "      <th>bath</th>\n",
              "      <th>price</th>\n",
              "      <th>bhk</th>\n",
              "      <th>price_per_sqft</th>\n",
              "    </tr>\n",
              "  </thead>\n",
              "  <tbody>\n",
              "    <tr>\n",
              "      <th>0</th>\n",
              "      <td>1st Phase JP Nagar</td>\n",
              "      <td>4 BHK</td>\n",
              "      <td>2825.0</td>\n",
              "      <td>4.0</td>\n",
              "      <td>250.0</td>\n",
              "      <td>4</td>\n",
              "      <td>8849.557522</td>\n",
              "    </tr>\n",
              "    <tr>\n",
              "      <th>1</th>\n",
              "      <td>1st Phase JP Nagar</td>\n",
              "      <td>3 BHK</td>\n",
              "      <td>1875.0</td>\n",
              "      <td>3.0</td>\n",
              "      <td>167.0</td>\n",
              "      <td>3</td>\n",
              "      <td>8906.666667</td>\n",
              "    </tr>\n",
              "    <tr>\n",
              "      <th>2</th>\n",
              "      <td>1st Phase JP Nagar</td>\n",
              "      <td>2 BHK</td>\n",
              "      <td>1394.0</td>\n",
              "      <td>2.0</td>\n",
              "      <td>100.0</td>\n",
              "      <td>2</td>\n",
              "      <td>7173.601148</td>\n",
              "    </tr>\n",
              "    <tr>\n",
              "      <th>3</th>\n",
              "      <td>1st Phase JP Nagar</td>\n",
              "      <td>2 BHK</td>\n",
              "      <td>1077.0</td>\n",
              "      <td>2.0</td>\n",
              "      <td>93.0</td>\n",
              "      <td>2</td>\n",
              "      <td>8635.097493</td>\n",
              "    </tr>\n",
              "    <tr>\n",
              "      <th>4</th>\n",
              "      <td>1st Phase JP Nagar</td>\n",
              "      <td>3 BHK</td>\n",
              "      <td>1590.0</td>\n",
              "      <td>3.0</td>\n",
              "      <td>131.0</td>\n",
              "      <td>3</td>\n",
              "      <td>8238.993711</td>\n",
              "    </tr>\n",
              "    <tr>\n",
              "      <th>5</th>\n",
              "      <td>1st Phase JP Nagar</td>\n",
              "      <td>3 BHK</td>\n",
              "      <td>2180.0</td>\n",
              "      <td>3.0</td>\n",
              "      <td>210.0</td>\n",
              "      <td>3</td>\n",
              "      <td>9633.027523</td>\n",
              "    </tr>\n",
              "    <tr>\n",
              "      <th>6</th>\n",
              "      <td>1st Phase JP Nagar</td>\n",
              "      <td>3 BHK</td>\n",
              "      <td>2077.0</td>\n",
              "      <td>3.0</td>\n",
              "      <td>175.0</td>\n",
              "      <td>3</td>\n",
              "      <td>8425.613866</td>\n",
              "    </tr>\n",
              "    <tr>\n",
              "      <th>7</th>\n",
              "      <td>1st Phase JP Nagar</td>\n",
              "      <td>2 BHK</td>\n",
              "      <td>1205.0</td>\n",
              "      <td>2.0</td>\n",
              "      <td>85.0</td>\n",
              "      <td>2</td>\n",
              "      <td>7053.941909</td>\n",
              "    </tr>\n",
              "    <tr>\n",
              "      <th>8</th>\n",
              "      <td>1st Phase JP Nagar</td>\n",
              "      <td>4 BHK</td>\n",
              "      <td>2615.0</td>\n",
              "      <td>5.0</td>\n",
              "      <td>222.0</td>\n",
              "      <td>4</td>\n",
              "      <td>8489.483748</td>\n",
              "    </tr>\n",
              "    <tr>\n",
              "      <th>9</th>\n",
              "      <td>5th Phase JP Nagar</td>\n",
              "      <td>2 BHK</td>\n",
              "      <td>1150.0</td>\n",
              "      <td>3.0</td>\n",
              "      <td>52.5</td>\n",
              "      <td>2</td>\n",
              "      <td>4565.217391</td>\n",
              "    </tr>\n",
              "    <tr>\n",
              "      <th>10</th>\n",
              "      <td>5th Phase JP Nagar</td>\n",
              "      <td>3 BHK</td>\n",
              "      <td>1485.0</td>\n",
              "      <td>2.0</td>\n",
              "      <td>67.0</td>\n",
              "      <td>3</td>\n",
              "      <td>4511.784512</td>\n",
              "    </tr>\n",
              "    <tr>\n",
              "      <th>11</th>\n",
              "      <td>5th Phase JP Nagar</td>\n",
              "      <td>1 BHK</td>\n",
              "      <td>600.0</td>\n",
              "      <td>1.0</td>\n",
              "      <td>30.0</td>\n",
              "      <td>1</td>\n",
              "      <td>5000.000000</td>\n",
              "    </tr>\n",
              "    <tr>\n",
              "      <th>12</th>\n",
              "      <td>5th Phase JP Nagar</td>\n",
              "      <td>2 BHK</td>\n",
              "      <td>1000.0</td>\n",
              "      <td>2.0</td>\n",
              "      <td>48.0</td>\n",
              "      <td>2</td>\n",
              "      <td>4800.000000</td>\n",
              "    </tr>\n",
              "    <tr>\n",
              "      <th>13</th>\n",
              "      <td>5th Phase JP Nagar</td>\n",
              "      <td>2 BHK</td>\n",
              "      <td>1190.0</td>\n",
              "      <td>2.0</td>\n",
              "      <td>61.8</td>\n",
              "      <td>2</td>\n",
              "      <td>5193.277311</td>\n",
              "    </tr>\n",
              "    <tr>\n",
              "      <th>14</th>\n",
              "      <td>5th Phase JP Nagar</td>\n",
              "      <td>2 BHK</td>\n",
              "      <td>1080.0</td>\n",
              "      <td>2.0</td>\n",
              "      <td>53.0</td>\n",
              "      <td>2</td>\n",
              "      <td>4907.407407</td>\n",
              "    </tr>\n",
              "    <tr>\n",
              "      <th>15</th>\n",
              "      <td>5th Phase JP Nagar</td>\n",
              "      <td>2 BHK</td>\n",
              "      <td>1041.0</td>\n",
              "      <td>2.0</td>\n",
              "      <td>54.0</td>\n",
              "      <td>2</td>\n",
              "      <td>5187.319885</td>\n",
              "    </tr>\n",
              "    <tr>\n",
              "      <th>16</th>\n",
              "      <td>5th Phase JP Nagar</td>\n",
              "      <td>3 BHK</td>\n",
              "      <td>1450.0</td>\n",
              "      <td>2.0</td>\n",
              "      <td>73.0</td>\n",
              "      <td>3</td>\n",
              "      <td>5034.482759</td>\n",
              "    </tr>\n",
              "    <tr>\n",
              "      <th>17</th>\n",
              "      <td>7th Phase JP Nagar</td>\n",
              "      <td>2 BHK</td>\n",
              "      <td>1080.0</td>\n",
              "      <td>2.0</td>\n",
              "      <td>72.0</td>\n",
              "      <td>2</td>\n",
              "      <td>6666.666667</td>\n",
              "    </tr>\n",
              "    <tr>\n",
              "      <th>18</th>\n",
              "      <td>7th Phase JP Nagar</td>\n",
              "      <td>2 BHK</td>\n",
              "      <td>1270.0</td>\n",
              "      <td>2.0</td>\n",
              "      <td>93.0</td>\n",
              "      <td>2</td>\n",
              "      <td>7322.834646</td>\n",
              "    </tr>\n",
              "    <tr>\n",
              "      <th>19</th>\n",
              "      <td>7th Phase JP Nagar</td>\n",
              "      <td>3 BHK</td>\n",
              "      <td>1420.0</td>\n",
              "      <td>2.0</td>\n",
              "      <td>100.0</td>\n",
              "      <td>3</td>\n",
              "      <td>7042.253521</td>\n",
              "    </tr>\n",
              "  </tbody>\n",
              "</table>\n",
              "</div>"
            ],
            "text/plain": [
              "              location   size  total_sqft  bath  price  bhk  price_per_sqft\n",
              "0   1st Phase JP Nagar  4 BHK      2825.0   4.0  250.0    4     8849.557522\n",
              "1   1st Phase JP Nagar  3 BHK      1875.0   3.0  167.0    3     8906.666667\n",
              "2   1st Phase JP Nagar  2 BHK      1394.0   2.0  100.0    2     7173.601148\n",
              "3   1st Phase JP Nagar  2 BHK      1077.0   2.0   93.0    2     8635.097493\n",
              "4   1st Phase JP Nagar  3 BHK      1590.0   3.0  131.0    3     8238.993711\n",
              "5   1st Phase JP Nagar  3 BHK      2180.0   3.0  210.0    3     9633.027523\n",
              "6   1st Phase JP Nagar  3 BHK      2077.0   3.0  175.0    3     8425.613866\n",
              "7   1st Phase JP Nagar  2 BHK      1205.0   2.0   85.0    2     7053.941909\n",
              "8   1st Phase JP Nagar  4 BHK      2615.0   5.0  222.0    4     8489.483748\n",
              "9   5th Phase JP Nagar  2 BHK      1150.0   3.0   52.5    2     4565.217391\n",
              "10  5th Phase JP Nagar  3 BHK      1485.0   2.0   67.0    3     4511.784512\n",
              "11  5th Phase JP Nagar  1 BHK       600.0   1.0   30.0    1     5000.000000\n",
              "12  5th Phase JP Nagar  2 BHK      1000.0   2.0   48.0    2     4800.000000\n",
              "13  5th Phase JP Nagar  2 BHK      1190.0   2.0   61.8    2     5193.277311\n",
              "14  5th Phase JP Nagar  2 BHK      1080.0   2.0   53.0    2     4907.407407\n",
              "15  5th Phase JP Nagar  2 BHK      1041.0   2.0   54.0    2     5187.319885\n",
              "16  5th Phase JP Nagar  3 BHK      1450.0   2.0   73.0    3     5034.482759\n",
              "17  7th Phase JP Nagar  2 BHK      1080.0   2.0   72.0    2     6666.666667\n",
              "18  7th Phase JP Nagar  2 BHK      1270.0   2.0   93.0    2     7322.834646\n",
              "19  7th Phase JP Nagar  3 BHK      1420.0   2.0  100.0    3     7042.253521"
            ]
          },
          "execution_count": 50,
          "metadata": {},
          "output_type": "execute_result"
        }
      ],
      "source": [
        "df9.head(20)"
      ]
    },
    {
      "cell_type": "code",
      "execution_count": 51,
      "metadata": {
        "colab": {
          "base_uri": "https://localhost:8080/",
          "height": 363
        },
        "id": "DTUSBL2aLZzz",
        "outputId": "b1fa0951-6c7f-48cc-88ba-2700e100217c"
      },
      "outputs": [
        {
          "data": {
            "text/html": [
              "<div>\n",
              "<style scoped>\n",
              "    .dataframe tbody tr th:only-of-type {\n",
              "        vertical-align: middle;\n",
              "    }\n",
              "\n",
              "    .dataframe tbody tr th {\n",
              "        vertical-align: top;\n",
              "    }\n",
              "\n",
              "    .dataframe thead th {\n",
              "        text-align: right;\n",
              "    }\n",
              "</style>\n",
              "<table border=\"1\" class=\"dataframe\">\n",
              "  <thead>\n",
              "    <tr style=\"text-align: right;\">\n",
              "      <th></th>\n",
              "      <th>location</th>\n",
              "      <th>total_sqft</th>\n",
              "      <th>bath</th>\n",
              "      <th>price</th>\n",
              "      <th>bhk</th>\n",
              "    </tr>\n",
              "  </thead>\n",
              "  <tbody>\n",
              "    <tr>\n",
              "      <th>0</th>\n",
              "      <td>1st Phase JP Nagar</td>\n",
              "      <td>2825.0</td>\n",
              "      <td>4.0</td>\n",
              "      <td>250.0</td>\n",
              "      <td>4</td>\n",
              "    </tr>\n",
              "    <tr>\n",
              "      <th>1</th>\n",
              "      <td>1st Phase JP Nagar</td>\n",
              "      <td>1875.0</td>\n",
              "      <td>3.0</td>\n",
              "      <td>167.0</td>\n",
              "      <td>3</td>\n",
              "    </tr>\n",
              "    <tr>\n",
              "      <th>2</th>\n",
              "      <td>1st Phase JP Nagar</td>\n",
              "      <td>1394.0</td>\n",
              "      <td>2.0</td>\n",
              "      <td>100.0</td>\n",
              "      <td>2</td>\n",
              "    </tr>\n",
              "    <tr>\n",
              "      <th>3</th>\n",
              "      <td>1st Phase JP Nagar</td>\n",
              "      <td>1077.0</td>\n",
              "      <td>2.0</td>\n",
              "      <td>93.0</td>\n",
              "      <td>2</td>\n",
              "    </tr>\n",
              "    <tr>\n",
              "      <th>4</th>\n",
              "      <td>1st Phase JP Nagar</td>\n",
              "      <td>1590.0</td>\n",
              "      <td>3.0</td>\n",
              "      <td>131.0</td>\n",
              "      <td>3</td>\n",
              "    </tr>\n",
              "    <tr>\n",
              "      <th>5</th>\n",
              "      <td>1st Phase JP Nagar</td>\n",
              "      <td>2180.0</td>\n",
              "      <td>3.0</td>\n",
              "      <td>210.0</td>\n",
              "      <td>3</td>\n",
              "    </tr>\n",
              "    <tr>\n",
              "      <th>6</th>\n",
              "      <td>1st Phase JP Nagar</td>\n",
              "      <td>2077.0</td>\n",
              "      <td>3.0</td>\n",
              "      <td>175.0</td>\n",
              "      <td>3</td>\n",
              "    </tr>\n",
              "    <tr>\n",
              "      <th>7</th>\n",
              "      <td>1st Phase JP Nagar</td>\n",
              "      <td>1205.0</td>\n",
              "      <td>2.0</td>\n",
              "      <td>85.0</td>\n",
              "      <td>2</td>\n",
              "    </tr>\n",
              "    <tr>\n",
              "      <th>8</th>\n",
              "      <td>1st Phase JP Nagar</td>\n",
              "      <td>2615.0</td>\n",
              "      <td>5.0</td>\n",
              "      <td>222.0</td>\n",
              "      <td>4</td>\n",
              "    </tr>\n",
              "    <tr>\n",
              "      <th>9</th>\n",
              "      <td>5th Phase JP Nagar</td>\n",
              "      <td>1150.0</td>\n",
              "      <td>3.0</td>\n",
              "      <td>52.5</td>\n",
              "      <td>2</td>\n",
              "    </tr>\n",
              "  </tbody>\n",
              "</table>\n",
              "</div>"
            ],
            "text/plain": [
              "             location  total_sqft  bath  price  bhk\n",
              "0  1st Phase JP Nagar      2825.0   4.0  250.0    4\n",
              "1  1st Phase JP Nagar      1875.0   3.0  167.0    3\n",
              "2  1st Phase JP Nagar      1394.0   2.0  100.0    2\n",
              "3  1st Phase JP Nagar      1077.0   2.0   93.0    2\n",
              "4  1st Phase JP Nagar      1590.0   3.0  131.0    3\n",
              "5  1st Phase JP Nagar      2180.0   3.0  210.0    3\n",
              "6  1st Phase JP Nagar      2077.0   3.0  175.0    3\n",
              "7  1st Phase JP Nagar      1205.0   2.0   85.0    2\n",
              "8  1st Phase JP Nagar      2615.0   5.0  222.0    4\n",
              "9  5th Phase JP Nagar      1150.0   3.0   52.5    2"
            ]
          },
          "execution_count": 51,
          "metadata": {},
          "output_type": "execute_result"
        }
      ],
      "source": [
        "df10 = df9.drop(['size','price_per_sqft'],axis='columns') #for size we have BHK feature\n",
        "df10.head(10)"
      ]
    },
    {
      "cell_type": "code",
      "execution_count": 52,
      "metadata": {
        "colab": {
          "base_uri": "https://localhost:8080/"
        },
        "id": "kwQHyX-9N83q",
        "outputId": "33f2e385-0fd5-4d2a-fad5-cbb23ae76ded"
      },
      "outputs": [
        {
          "data": {
            "text/plain": [
              "location       object\n",
              "total_sqft    float64\n",
              "bath          float64\n",
              "price         float64\n",
              "bhk             int64\n",
              "dtype: object"
            ]
          },
          "execution_count": 52,
          "metadata": {},
          "output_type": "execute_result"
        }
      ],
      "source": [
        "df10.dtypes"
      ]
    },
    {
      "cell_type": "markdown",
      "metadata": {
        "id": "Ja2-kplWOFTy"
      },
      "source": [
        "For ML model we need to convert \"location\" from object to numeric by using Use One Hot Encoding/ Dummies For Location"
      ]
    },
    {
      "cell_type": "code",
      "execution_count": 53,
      "metadata": {
        "colab": {
          "base_uri": "https://localhost:8080/",
          "height": 508
        },
        "id": "XyRW3u5bOZw9",
        "outputId": "0e90e8df-db6a-4ac1-8c47-b6cfbb0b5b34"
      },
      "outputs": [
        {
          "data": {
            "text/html": [
              "<div>\n",
              "<style scoped>\n",
              "    .dataframe tbody tr th:only-of-type {\n",
              "        vertical-align: middle;\n",
              "    }\n",
              "\n",
              "    .dataframe tbody tr th {\n",
              "        vertical-align: top;\n",
              "    }\n",
              "\n",
              "    .dataframe thead th {\n",
              "        text-align: right;\n",
              "    }\n",
              "</style>\n",
              "<table border=\"1\" class=\"dataframe\">\n",
              "  <thead>\n",
              "    <tr style=\"text-align: right;\">\n",
              "      <th></th>\n",
              "      <th>1st Phase JP Nagar</th>\n",
              "      <th>5th Phase JP Nagar</th>\n",
              "      <th>7th Phase JP Nagar</th>\n",
              "      <th>8th Phase JP Nagar</th>\n",
              "      <th>9th Phase JP Nagar</th>\n",
              "      <th>AECS Layout</th>\n",
              "      <th>Abbigere</th>\n",
              "      <th>Akshaya Nagar</th>\n",
              "      <th>Ambalipura</th>\n",
              "      <th>Ambedkar Nagar</th>\n",
              "      <th>...</th>\n",
              "      <th>Tumkur Road</th>\n",
              "      <th>Uttarahalli</th>\n",
              "      <th>Varthur</th>\n",
              "      <th>Vijayanagar</th>\n",
              "      <th>Vittasandra</th>\n",
              "      <th>Whitefield</th>\n",
              "      <th>Yelahanka</th>\n",
              "      <th>Yelahanka New Town</th>\n",
              "      <th>Yeshwanthpur</th>\n",
              "      <th>other</th>\n",
              "    </tr>\n",
              "  </thead>\n",
              "  <tbody>\n",
              "    <tr>\n",
              "      <th>0</th>\n",
              "      <td>1</td>\n",
              "      <td>0</td>\n",
              "      <td>0</td>\n",
              "      <td>0</td>\n",
              "      <td>0</td>\n",
              "      <td>0</td>\n",
              "      <td>0</td>\n",
              "      <td>0</td>\n",
              "      <td>0</td>\n",
              "      <td>0</td>\n",
              "      <td>...</td>\n",
              "      <td>0</td>\n",
              "      <td>0</td>\n",
              "      <td>0</td>\n",
              "      <td>0</td>\n",
              "      <td>0</td>\n",
              "      <td>0</td>\n",
              "      <td>0</td>\n",
              "      <td>0</td>\n",
              "      <td>0</td>\n",
              "      <td>0</td>\n",
              "    </tr>\n",
              "    <tr>\n",
              "      <th>1</th>\n",
              "      <td>1</td>\n",
              "      <td>0</td>\n",
              "      <td>0</td>\n",
              "      <td>0</td>\n",
              "      <td>0</td>\n",
              "      <td>0</td>\n",
              "      <td>0</td>\n",
              "      <td>0</td>\n",
              "      <td>0</td>\n",
              "      <td>0</td>\n",
              "      <td>...</td>\n",
              "      <td>0</td>\n",
              "      <td>0</td>\n",
              "      <td>0</td>\n",
              "      <td>0</td>\n",
              "      <td>0</td>\n",
              "      <td>0</td>\n",
              "      <td>0</td>\n",
              "      <td>0</td>\n",
              "      <td>0</td>\n",
              "      <td>0</td>\n",
              "    </tr>\n",
              "    <tr>\n",
              "      <th>2</th>\n",
              "      <td>1</td>\n",
              "      <td>0</td>\n",
              "      <td>0</td>\n",
              "      <td>0</td>\n",
              "      <td>0</td>\n",
              "      <td>0</td>\n",
              "      <td>0</td>\n",
              "      <td>0</td>\n",
              "      <td>0</td>\n",
              "      <td>0</td>\n",
              "      <td>...</td>\n",
              "      <td>0</td>\n",
              "      <td>0</td>\n",
              "      <td>0</td>\n",
              "      <td>0</td>\n",
              "      <td>0</td>\n",
              "      <td>0</td>\n",
              "      <td>0</td>\n",
              "      <td>0</td>\n",
              "      <td>0</td>\n",
              "      <td>0</td>\n",
              "    </tr>\n",
              "    <tr>\n",
              "      <th>3</th>\n",
              "      <td>1</td>\n",
              "      <td>0</td>\n",
              "      <td>0</td>\n",
              "      <td>0</td>\n",
              "      <td>0</td>\n",
              "      <td>0</td>\n",
              "      <td>0</td>\n",
              "      <td>0</td>\n",
              "      <td>0</td>\n",
              "      <td>0</td>\n",
              "      <td>...</td>\n",
              "      <td>0</td>\n",
              "      <td>0</td>\n",
              "      <td>0</td>\n",
              "      <td>0</td>\n",
              "      <td>0</td>\n",
              "      <td>0</td>\n",
              "      <td>0</td>\n",
              "      <td>0</td>\n",
              "      <td>0</td>\n",
              "      <td>0</td>\n",
              "    </tr>\n",
              "    <tr>\n",
              "      <th>4</th>\n",
              "      <td>1</td>\n",
              "      <td>0</td>\n",
              "      <td>0</td>\n",
              "      <td>0</td>\n",
              "      <td>0</td>\n",
              "      <td>0</td>\n",
              "      <td>0</td>\n",
              "      <td>0</td>\n",
              "      <td>0</td>\n",
              "      <td>0</td>\n",
              "      <td>...</td>\n",
              "      <td>0</td>\n",
              "      <td>0</td>\n",
              "      <td>0</td>\n",
              "      <td>0</td>\n",
              "      <td>0</td>\n",
              "      <td>0</td>\n",
              "      <td>0</td>\n",
              "      <td>0</td>\n",
              "      <td>0</td>\n",
              "      <td>0</td>\n",
              "    </tr>\n",
              "    <tr>\n",
              "      <th>5</th>\n",
              "      <td>1</td>\n",
              "      <td>0</td>\n",
              "      <td>0</td>\n",
              "      <td>0</td>\n",
              "      <td>0</td>\n",
              "      <td>0</td>\n",
              "      <td>0</td>\n",
              "      <td>0</td>\n",
              "      <td>0</td>\n",
              "      <td>0</td>\n",
              "      <td>...</td>\n",
              "      <td>0</td>\n",
              "      <td>0</td>\n",
              "      <td>0</td>\n",
              "      <td>0</td>\n",
              "      <td>0</td>\n",
              "      <td>0</td>\n",
              "      <td>0</td>\n",
              "      <td>0</td>\n",
              "      <td>0</td>\n",
              "      <td>0</td>\n",
              "    </tr>\n",
              "    <tr>\n",
              "      <th>6</th>\n",
              "      <td>1</td>\n",
              "      <td>0</td>\n",
              "      <td>0</td>\n",
              "      <td>0</td>\n",
              "      <td>0</td>\n",
              "      <td>0</td>\n",
              "      <td>0</td>\n",
              "      <td>0</td>\n",
              "      <td>0</td>\n",
              "      <td>0</td>\n",
              "      <td>...</td>\n",
              "      <td>0</td>\n",
              "      <td>0</td>\n",
              "      <td>0</td>\n",
              "      <td>0</td>\n",
              "      <td>0</td>\n",
              "      <td>0</td>\n",
              "      <td>0</td>\n",
              "      <td>0</td>\n",
              "      <td>0</td>\n",
              "      <td>0</td>\n",
              "    </tr>\n",
              "    <tr>\n",
              "      <th>7</th>\n",
              "      <td>1</td>\n",
              "      <td>0</td>\n",
              "      <td>0</td>\n",
              "      <td>0</td>\n",
              "      <td>0</td>\n",
              "      <td>0</td>\n",
              "      <td>0</td>\n",
              "      <td>0</td>\n",
              "      <td>0</td>\n",
              "      <td>0</td>\n",
              "      <td>...</td>\n",
              "      <td>0</td>\n",
              "      <td>0</td>\n",
              "      <td>0</td>\n",
              "      <td>0</td>\n",
              "      <td>0</td>\n",
              "      <td>0</td>\n",
              "      <td>0</td>\n",
              "      <td>0</td>\n",
              "      <td>0</td>\n",
              "      <td>0</td>\n",
              "    </tr>\n",
              "    <tr>\n",
              "      <th>8</th>\n",
              "      <td>1</td>\n",
              "      <td>0</td>\n",
              "      <td>0</td>\n",
              "      <td>0</td>\n",
              "      <td>0</td>\n",
              "      <td>0</td>\n",
              "      <td>0</td>\n",
              "      <td>0</td>\n",
              "      <td>0</td>\n",
              "      <td>0</td>\n",
              "      <td>...</td>\n",
              "      <td>0</td>\n",
              "      <td>0</td>\n",
              "      <td>0</td>\n",
              "      <td>0</td>\n",
              "      <td>0</td>\n",
              "      <td>0</td>\n",
              "      <td>0</td>\n",
              "      <td>0</td>\n",
              "      <td>0</td>\n",
              "      <td>0</td>\n",
              "    </tr>\n",
              "    <tr>\n",
              "      <th>9</th>\n",
              "      <td>0</td>\n",
              "      <td>1</td>\n",
              "      <td>0</td>\n",
              "      <td>0</td>\n",
              "      <td>0</td>\n",
              "      <td>0</td>\n",
              "      <td>0</td>\n",
              "      <td>0</td>\n",
              "      <td>0</td>\n",
              "      <td>0</td>\n",
              "      <td>...</td>\n",
              "      <td>0</td>\n",
              "      <td>0</td>\n",
              "      <td>0</td>\n",
              "      <td>0</td>\n",
              "      <td>0</td>\n",
              "      <td>0</td>\n",
              "      <td>0</td>\n",
              "      <td>0</td>\n",
              "      <td>0</td>\n",
              "      <td>0</td>\n",
              "    </tr>\n",
              "  </tbody>\n",
              "</table>\n",
              "<p>10 rows × 140 columns</p>\n",
              "</div>"
            ],
            "text/plain": [
              "   1st Phase JP Nagar  5th Phase JP Nagar  7th Phase JP Nagar  \\\n",
              "0                   1                   0                   0   \n",
              "1                   1                   0                   0   \n",
              "2                   1                   0                   0   \n",
              "3                   1                   0                   0   \n",
              "4                   1                   0                   0   \n",
              "5                   1                   0                   0   \n",
              "6                   1                   0                   0   \n",
              "7                   1                   0                   0   \n",
              "8                   1                   0                   0   \n",
              "9                   0                   1                   0   \n",
              "\n",
              "   8th Phase JP Nagar  9th Phase JP Nagar  AECS Layout  Abbigere  \\\n",
              "0                   0                   0            0         0   \n",
              "1                   0                   0            0         0   \n",
              "2                   0                   0            0         0   \n",
              "3                   0                   0            0         0   \n",
              "4                   0                   0            0         0   \n",
              "5                   0                   0            0         0   \n",
              "6                   0                   0            0         0   \n",
              "7                   0                   0            0         0   \n",
              "8                   0                   0            0         0   \n",
              "9                   0                   0            0         0   \n",
              "\n",
              "   Akshaya Nagar  Ambalipura  Ambedkar Nagar  ...  Tumkur Road  Uttarahalli  \\\n",
              "0              0           0               0  ...            0            0   \n",
              "1              0           0               0  ...            0            0   \n",
              "2              0           0               0  ...            0            0   \n",
              "3              0           0               0  ...            0            0   \n",
              "4              0           0               0  ...            0            0   \n",
              "5              0           0               0  ...            0            0   \n",
              "6              0           0               0  ...            0            0   \n",
              "7              0           0               0  ...            0            0   \n",
              "8              0           0               0  ...            0            0   \n",
              "9              0           0               0  ...            0            0   \n",
              "\n",
              "   Varthur  Vijayanagar  Vittasandra  Whitefield  Yelahanka  \\\n",
              "0        0            0            0           0          0   \n",
              "1        0            0            0           0          0   \n",
              "2        0            0            0           0          0   \n",
              "3        0            0            0           0          0   \n",
              "4        0            0            0           0          0   \n",
              "5        0            0            0           0          0   \n",
              "6        0            0            0           0          0   \n",
              "7        0            0            0           0          0   \n",
              "8        0            0            0           0          0   \n",
              "9        0            0            0           0          0   \n",
              "\n",
              "   Yelahanka New Town  Yeshwanthpur  other  \n",
              "0                   0             0      0  \n",
              "1                   0             0      0  \n",
              "2                   0             0      0  \n",
              "3                   0             0      0  \n",
              "4                   0             0      0  \n",
              "5                   0             0      0  \n",
              "6                   0             0      0  \n",
              "7                   0             0      0  \n",
              "8                   0             0      0  \n",
              "9                   0             0      0  \n",
              "\n",
              "[10 rows x 140 columns]"
            ]
          },
          "execution_count": 53,
          "metadata": {},
          "output_type": "execute_result"
        }
      ],
      "source": [
        "dummies = pd.get_dummies(df10.location)\n",
        "dummies.head(10)"
      ]
    },
    {
      "cell_type": "code",
      "execution_count": 54,
      "metadata": {
        "colab": {
          "base_uri": "https://localhost:8080/",
          "height": 682
        },
        "id": "6Bqxb7RdOtNw",
        "outputId": "66828495-d813-433b-ed69-42487621a26e"
      },
      "outputs": [
        {
          "data": {
            "text/html": [
              "<div>\n",
              "<style scoped>\n",
              "    .dataframe tbody tr th:only-of-type {\n",
              "        vertical-align: middle;\n",
              "    }\n",
              "\n",
              "    .dataframe tbody tr th {\n",
              "        vertical-align: top;\n",
              "    }\n",
              "\n",
              "    .dataframe thead th {\n",
              "        text-align: right;\n",
              "    }\n",
              "</style>\n",
              "<table border=\"1\" class=\"dataframe\">\n",
              "  <thead>\n",
              "    <tr style=\"text-align: right;\">\n",
              "      <th></th>\n",
              "      <th>location</th>\n",
              "      <th>total_sqft</th>\n",
              "      <th>bath</th>\n",
              "      <th>price</th>\n",
              "      <th>bhk</th>\n",
              "      <th>1st Phase JP Nagar</th>\n",
              "      <th>5th Phase JP Nagar</th>\n",
              "      <th>7th Phase JP Nagar</th>\n",
              "      <th>8th Phase JP Nagar</th>\n",
              "      <th>9th Phase JP Nagar</th>\n",
              "      <th>...</th>\n",
              "      <th>Thubarahalli</th>\n",
              "      <th>Tumkur Road</th>\n",
              "      <th>Uttarahalli</th>\n",
              "      <th>Varthur</th>\n",
              "      <th>Vijayanagar</th>\n",
              "      <th>Vittasandra</th>\n",
              "      <th>Whitefield</th>\n",
              "      <th>Yelahanka</th>\n",
              "      <th>Yelahanka New Town</th>\n",
              "      <th>Yeshwanthpur</th>\n",
              "    </tr>\n",
              "  </thead>\n",
              "  <tbody>\n",
              "    <tr>\n",
              "      <th>0</th>\n",
              "      <td>1st Phase JP Nagar</td>\n",
              "      <td>2825.0</td>\n",
              "      <td>4.0</td>\n",
              "      <td>250.0</td>\n",
              "      <td>4</td>\n",
              "      <td>1</td>\n",
              "      <td>0</td>\n",
              "      <td>0</td>\n",
              "      <td>0</td>\n",
              "      <td>0</td>\n",
              "      <td>...</td>\n",
              "      <td>0</td>\n",
              "      <td>0</td>\n",
              "      <td>0</td>\n",
              "      <td>0</td>\n",
              "      <td>0</td>\n",
              "      <td>0</td>\n",
              "      <td>0</td>\n",
              "      <td>0</td>\n",
              "      <td>0</td>\n",
              "      <td>0</td>\n",
              "    </tr>\n",
              "    <tr>\n",
              "      <th>1</th>\n",
              "      <td>1st Phase JP Nagar</td>\n",
              "      <td>1875.0</td>\n",
              "      <td>3.0</td>\n",
              "      <td>167.0</td>\n",
              "      <td>3</td>\n",
              "      <td>1</td>\n",
              "      <td>0</td>\n",
              "      <td>0</td>\n",
              "      <td>0</td>\n",
              "      <td>0</td>\n",
              "      <td>...</td>\n",
              "      <td>0</td>\n",
              "      <td>0</td>\n",
              "      <td>0</td>\n",
              "      <td>0</td>\n",
              "      <td>0</td>\n",
              "      <td>0</td>\n",
              "      <td>0</td>\n",
              "      <td>0</td>\n",
              "      <td>0</td>\n",
              "      <td>0</td>\n",
              "    </tr>\n",
              "    <tr>\n",
              "      <th>2</th>\n",
              "      <td>1st Phase JP Nagar</td>\n",
              "      <td>1394.0</td>\n",
              "      <td>2.0</td>\n",
              "      <td>100.0</td>\n",
              "      <td>2</td>\n",
              "      <td>1</td>\n",
              "      <td>0</td>\n",
              "      <td>0</td>\n",
              "      <td>0</td>\n",
              "      <td>0</td>\n",
              "      <td>...</td>\n",
              "      <td>0</td>\n",
              "      <td>0</td>\n",
              "      <td>0</td>\n",
              "      <td>0</td>\n",
              "      <td>0</td>\n",
              "      <td>0</td>\n",
              "      <td>0</td>\n",
              "      <td>0</td>\n",
              "      <td>0</td>\n",
              "      <td>0</td>\n",
              "    </tr>\n",
              "    <tr>\n",
              "      <th>3</th>\n",
              "      <td>1st Phase JP Nagar</td>\n",
              "      <td>1077.0</td>\n",
              "      <td>2.0</td>\n",
              "      <td>93.0</td>\n",
              "      <td>2</td>\n",
              "      <td>1</td>\n",
              "      <td>0</td>\n",
              "      <td>0</td>\n",
              "      <td>0</td>\n",
              "      <td>0</td>\n",
              "      <td>...</td>\n",
              "      <td>0</td>\n",
              "      <td>0</td>\n",
              "      <td>0</td>\n",
              "      <td>0</td>\n",
              "      <td>0</td>\n",
              "      <td>0</td>\n",
              "      <td>0</td>\n",
              "      <td>0</td>\n",
              "      <td>0</td>\n",
              "      <td>0</td>\n",
              "    </tr>\n",
              "    <tr>\n",
              "      <th>4</th>\n",
              "      <td>1st Phase JP Nagar</td>\n",
              "      <td>1590.0</td>\n",
              "      <td>3.0</td>\n",
              "      <td>131.0</td>\n",
              "      <td>3</td>\n",
              "      <td>1</td>\n",
              "      <td>0</td>\n",
              "      <td>0</td>\n",
              "      <td>0</td>\n",
              "      <td>0</td>\n",
              "      <td>...</td>\n",
              "      <td>0</td>\n",
              "      <td>0</td>\n",
              "      <td>0</td>\n",
              "      <td>0</td>\n",
              "      <td>0</td>\n",
              "      <td>0</td>\n",
              "      <td>0</td>\n",
              "      <td>0</td>\n",
              "      <td>0</td>\n",
              "      <td>0</td>\n",
              "    </tr>\n",
              "    <tr>\n",
              "      <th>5</th>\n",
              "      <td>1st Phase JP Nagar</td>\n",
              "      <td>2180.0</td>\n",
              "      <td>3.0</td>\n",
              "      <td>210.0</td>\n",
              "      <td>3</td>\n",
              "      <td>1</td>\n",
              "      <td>0</td>\n",
              "      <td>0</td>\n",
              "      <td>0</td>\n",
              "      <td>0</td>\n",
              "      <td>...</td>\n",
              "      <td>0</td>\n",
              "      <td>0</td>\n",
              "      <td>0</td>\n",
              "      <td>0</td>\n",
              "      <td>0</td>\n",
              "      <td>0</td>\n",
              "      <td>0</td>\n",
              "      <td>0</td>\n",
              "      <td>0</td>\n",
              "      <td>0</td>\n",
              "    </tr>\n",
              "    <tr>\n",
              "      <th>6</th>\n",
              "      <td>1st Phase JP Nagar</td>\n",
              "      <td>2077.0</td>\n",
              "      <td>3.0</td>\n",
              "      <td>175.0</td>\n",
              "      <td>3</td>\n",
              "      <td>1</td>\n",
              "      <td>0</td>\n",
              "      <td>0</td>\n",
              "      <td>0</td>\n",
              "      <td>0</td>\n",
              "      <td>...</td>\n",
              "      <td>0</td>\n",
              "      <td>0</td>\n",
              "      <td>0</td>\n",
              "      <td>0</td>\n",
              "      <td>0</td>\n",
              "      <td>0</td>\n",
              "      <td>0</td>\n",
              "      <td>0</td>\n",
              "      <td>0</td>\n",
              "      <td>0</td>\n",
              "    </tr>\n",
              "    <tr>\n",
              "      <th>7</th>\n",
              "      <td>1st Phase JP Nagar</td>\n",
              "      <td>1205.0</td>\n",
              "      <td>2.0</td>\n",
              "      <td>85.0</td>\n",
              "      <td>2</td>\n",
              "      <td>1</td>\n",
              "      <td>0</td>\n",
              "      <td>0</td>\n",
              "      <td>0</td>\n",
              "      <td>0</td>\n",
              "      <td>...</td>\n",
              "      <td>0</td>\n",
              "      <td>0</td>\n",
              "      <td>0</td>\n",
              "      <td>0</td>\n",
              "      <td>0</td>\n",
              "      <td>0</td>\n",
              "      <td>0</td>\n",
              "      <td>0</td>\n",
              "      <td>0</td>\n",
              "      <td>0</td>\n",
              "    </tr>\n",
              "    <tr>\n",
              "      <th>8</th>\n",
              "      <td>1st Phase JP Nagar</td>\n",
              "      <td>2615.0</td>\n",
              "      <td>5.0</td>\n",
              "      <td>222.0</td>\n",
              "      <td>4</td>\n",
              "      <td>1</td>\n",
              "      <td>0</td>\n",
              "      <td>0</td>\n",
              "      <td>0</td>\n",
              "      <td>0</td>\n",
              "      <td>...</td>\n",
              "      <td>0</td>\n",
              "      <td>0</td>\n",
              "      <td>0</td>\n",
              "      <td>0</td>\n",
              "      <td>0</td>\n",
              "      <td>0</td>\n",
              "      <td>0</td>\n",
              "      <td>0</td>\n",
              "      <td>0</td>\n",
              "      <td>0</td>\n",
              "    </tr>\n",
              "    <tr>\n",
              "      <th>9</th>\n",
              "      <td>5th Phase JP Nagar</td>\n",
              "      <td>1150.0</td>\n",
              "      <td>3.0</td>\n",
              "      <td>52.5</td>\n",
              "      <td>2</td>\n",
              "      <td>0</td>\n",
              "      <td>1</td>\n",
              "      <td>0</td>\n",
              "      <td>0</td>\n",
              "      <td>0</td>\n",
              "      <td>...</td>\n",
              "      <td>0</td>\n",
              "      <td>0</td>\n",
              "      <td>0</td>\n",
              "      <td>0</td>\n",
              "      <td>0</td>\n",
              "      <td>0</td>\n",
              "      <td>0</td>\n",
              "      <td>0</td>\n",
              "      <td>0</td>\n",
              "      <td>0</td>\n",
              "    </tr>\n",
              "  </tbody>\n",
              "</table>\n",
              "<p>10 rows × 144 columns</p>\n",
              "</div>"
            ],
            "text/plain": [
              "             location  total_sqft  bath  price  bhk  1st Phase JP Nagar  \\\n",
              "0  1st Phase JP Nagar      2825.0   4.0  250.0    4                   1   \n",
              "1  1st Phase JP Nagar      1875.0   3.0  167.0    3                   1   \n",
              "2  1st Phase JP Nagar      1394.0   2.0  100.0    2                   1   \n",
              "3  1st Phase JP Nagar      1077.0   2.0   93.0    2                   1   \n",
              "4  1st Phase JP Nagar      1590.0   3.0  131.0    3                   1   \n",
              "5  1st Phase JP Nagar      2180.0   3.0  210.0    3                   1   \n",
              "6  1st Phase JP Nagar      2077.0   3.0  175.0    3                   1   \n",
              "7  1st Phase JP Nagar      1205.0   2.0   85.0    2                   1   \n",
              "8  1st Phase JP Nagar      2615.0   5.0  222.0    4                   1   \n",
              "9  5th Phase JP Nagar      1150.0   3.0   52.5    2                   0   \n",
              "\n",
              "   5th Phase JP Nagar  7th Phase JP Nagar  8th Phase JP Nagar  \\\n",
              "0                   0                   0                   0   \n",
              "1                   0                   0                   0   \n",
              "2                   0                   0                   0   \n",
              "3                   0                   0                   0   \n",
              "4                   0                   0                   0   \n",
              "5                   0                   0                   0   \n",
              "6                   0                   0                   0   \n",
              "7                   0                   0                   0   \n",
              "8                   0                   0                   0   \n",
              "9                   1                   0                   0   \n",
              "\n",
              "   9th Phase JP Nagar  ...  Thubarahalli  Tumkur Road  Uttarahalli  Varthur  \\\n",
              "0                   0  ...             0            0            0        0   \n",
              "1                   0  ...             0            0            0        0   \n",
              "2                   0  ...             0            0            0        0   \n",
              "3                   0  ...             0            0            0        0   \n",
              "4                   0  ...             0            0            0        0   \n",
              "5                   0  ...             0            0            0        0   \n",
              "6                   0  ...             0            0            0        0   \n",
              "7                   0  ...             0            0            0        0   \n",
              "8                   0  ...             0            0            0        0   \n",
              "9                   0  ...             0            0            0        0   \n",
              "\n",
              "   Vijayanagar  Vittasandra  Whitefield  Yelahanka  Yelahanka New Town  \\\n",
              "0            0            0           0          0                   0   \n",
              "1            0            0           0          0                   0   \n",
              "2            0            0           0          0                   0   \n",
              "3            0            0           0          0                   0   \n",
              "4            0            0           0          0                   0   \n",
              "5            0            0           0          0                   0   \n",
              "6            0            0           0          0                   0   \n",
              "7            0            0           0          0                   0   \n",
              "8            0            0           0          0                   0   \n",
              "9            0            0           0          0                   0   \n",
              "\n",
              "   Yeshwanthpur  \n",
              "0             0  \n",
              "1             0  \n",
              "2             0  \n",
              "3             0  \n",
              "4             0  \n",
              "5             0  \n",
              "6             0  \n",
              "7             0  \n",
              "8             0  \n",
              "9             0  \n",
              "\n",
              "[10 rows x 144 columns]"
            ]
          },
          "execution_count": 54,
          "metadata": {},
          "output_type": "execute_result"
        }
      ],
      "source": [
        "df11 = pd.concat([df10,dummies.drop('other',axis='columns')],axis='columns') #combing df10 and dummies\n",
        "#to avoid dummy variable trap removing one column\n",
        "df11.head(10)"
      ]
    },
    {
      "cell_type": "code",
      "execution_count": 55,
      "metadata": {
        "colab": {
          "base_uri": "https://localhost:8080/",
          "height": 508
        },
        "id": "z4hBSgqSO1X4",
        "outputId": "bc407f8d-c238-4a1f-fca8-4b429634dddf"
      },
      "outputs": [
        {
          "data": {
            "text/html": [
              "<div>\n",
              "<style scoped>\n",
              "    .dataframe tbody tr th:only-of-type {\n",
              "        vertical-align: middle;\n",
              "    }\n",
              "\n",
              "    .dataframe tbody tr th {\n",
              "        vertical-align: top;\n",
              "    }\n",
              "\n",
              "    .dataframe thead th {\n",
              "        text-align: right;\n",
              "    }\n",
              "</style>\n",
              "<table border=\"1\" class=\"dataframe\">\n",
              "  <thead>\n",
              "    <tr style=\"text-align: right;\">\n",
              "      <th></th>\n",
              "      <th>total_sqft</th>\n",
              "      <th>bath</th>\n",
              "      <th>price</th>\n",
              "      <th>bhk</th>\n",
              "      <th>1st Phase JP Nagar</th>\n",
              "      <th>5th Phase JP Nagar</th>\n",
              "      <th>7th Phase JP Nagar</th>\n",
              "      <th>8th Phase JP Nagar</th>\n",
              "      <th>9th Phase JP Nagar</th>\n",
              "      <th>AECS Layout</th>\n",
              "      <th>...</th>\n",
              "      <th>Thubarahalli</th>\n",
              "      <th>Tumkur Road</th>\n",
              "      <th>Uttarahalli</th>\n",
              "      <th>Varthur</th>\n",
              "      <th>Vijayanagar</th>\n",
              "      <th>Vittasandra</th>\n",
              "      <th>Whitefield</th>\n",
              "      <th>Yelahanka</th>\n",
              "      <th>Yelahanka New Town</th>\n",
              "      <th>Yeshwanthpur</th>\n",
              "    </tr>\n",
              "  </thead>\n",
              "  <tbody>\n",
              "    <tr>\n",
              "      <th>0</th>\n",
              "      <td>2825.0</td>\n",
              "      <td>4.0</td>\n",
              "      <td>250.0</td>\n",
              "      <td>4</td>\n",
              "      <td>1</td>\n",
              "      <td>0</td>\n",
              "      <td>0</td>\n",
              "      <td>0</td>\n",
              "      <td>0</td>\n",
              "      <td>0</td>\n",
              "      <td>...</td>\n",
              "      <td>0</td>\n",
              "      <td>0</td>\n",
              "      <td>0</td>\n",
              "      <td>0</td>\n",
              "      <td>0</td>\n",
              "      <td>0</td>\n",
              "      <td>0</td>\n",
              "      <td>0</td>\n",
              "      <td>0</td>\n",
              "      <td>0</td>\n",
              "    </tr>\n",
              "    <tr>\n",
              "      <th>1</th>\n",
              "      <td>1875.0</td>\n",
              "      <td>3.0</td>\n",
              "      <td>167.0</td>\n",
              "      <td>3</td>\n",
              "      <td>1</td>\n",
              "      <td>0</td>\n",
              "      <td>0</td>\n",
              "      <td>0</td>\n",
              "      <td>0</td>\n",
              "      <td>0</td>\n",
              "      <td>...</td>\n",
              "      <td>0</td>\n",
              "      <td>0</td>\n",
              "      <td>0</td>\n",
              "      <td>0</td>\n",
              "      <td>0</td>\n",
              "      <td>0</td>\n",
              "      <td>0</td>\n",
              "      <td>0</td>\n",
              "      <td>0</td>\n",
              "      <td>0</td>\n",
              "    </tr>\n",
              "    <tr>\n",
              "      <th>2</th>\n",
              "      <td>1394.0</td>\n",
              "      <td>2.0</td>\n",
              "      <td>100.0</td>\n",
              "      <td>2</td>\n",
              "      <td>1</td>\n",
              "      <td>0</td>\n",
              "      <td>0</td>\n",
              "      <td>0</td>\n",
              "      <td>0</td>\n",
              "      <td>0</td>\n",
              "      <td>...</td>\n",
              "      <td>0</td>\n",
              "      <td>0</td>\n",
              "      <td>0</td>\n",
              "      <td>0</td>\n",
              "      <td>0</td>\n",
              "      <td>0</td>\n",
              "      <td>0</td>\n",
              "      <td>0</td>\n",
              "      <td>0</td>\n",
              "      <td>0</td>\n",
              "    </tr>\n",
              "    <tr>\n",
              "      <th>3</th>\n",
              "      <td>1077.0</td>\n",
              "      <td>2.0</td>\n",
              "      <td>93.0</td>\n",
              "      <td>2</td>\n",
              "      <td>1</td>\n",
              "      <td>0</td>\n",
              "      <td>0</td>\n",
              "      <td>0</td>\n",
              "      <td>0</td>\n",
              "      <td>0</td>\n",
              "      <td>...</td>\n",
              "      <td>0</td>\n",
              "      <td>0</td>\n",
              "      <td>0</td>\n",
              "      <td>0</td>\n",
              "      <td>0</td>\n",
              "      <td>0</td>\n",
              "      <td>0</td>\n",
              "      <td>0</td>\n",
              "      <td>0</td>\n",
              "      <td>0</td>\n",
              "    </tr>\n",
              "    <tr>\n",
              "      <th>4</th>\n",
              "      <td>1590.0</td>\n",
              "      <td>3.0</td>\n",
              "      <td>131.0</td>\n",
              "      <td>3</td>\n",
              "      <td>1</td>\n",
              "      <td>0</td>\n",
              "      <td>0</td>\n",
              "      <td>0</td>\n",
              "      <td>0</td>\n",
              "      <td>0</td>\n",
              "      <td>...</td>\n",
              "      <td>0</td>\n",
              "      <td>0</td>\n",
              "      <td>0</td>\n",
              "      <td>0</td>\n",
              "      <td>0</td>\n",
              "      <td>0</td>\n",
              "      <td>0</td>\n",
              "      <td>0</td>\n",
              "      <td>0</td>\n",
              "      <td>0</td>\n",
              "    </tr>\n",
              "    <tr>\n",
              "      <th>5</th>\n",
              "      <td>2180.0</td>\n",
              "      <td>3.0</td>\n",
              "      <td>210.0</td>\n",
              "      <td>3</td>\n",
              "      <td>1</td>\n",
              "      <td>0</td>\n",
              "      <td>0</td>\n",
              "      <td>0</td>\n",
              "      <td>0</td>\n",
              "      <td>0</td>\n",
              "      <td>...</td>\n",
              "      <td>0</td>\n",
              "      <td>0</td>\n",
              "      <td>0</td>\n",
              "      <td>0</td>\n",
              "      <td>0</td>\n",
              "      <td>0</td>\n",
              "      <td>0</td>\n",
              "      <td>0</td>\n",
              "      <td>0</td>\n",
              "      <td>0</td>\n",
              "    </tr>\n",
              "    <tr>\n",
              "      <th>6</th>\n",
              "      <td>2077.0</td>\n",
              "      <td>3.0</td>\n",
              "      <td>175.0</td>\n",
              "      <td>3</td>\n",
              "      <td>1</td>\n",
              "      <td>0</td>\n",
              "      <td>0</td>\n",
              "      <td>0</td>\n",
              "      <td>0</td>\n",
              "      <td>0</td>\n",
              "      <td>...</td>\n",
              "      <td>0</td>\n",
              "      <td>0</td>\n",
              "      <td>0</td>\n",
              "      <td>0</td>\n",
              "      <td>0</td>\n",
              "      <td>0</td>\n",
              "      <td>0</td>\n",
              "      <td>0</td>\n",
              "      <td>0</td>\n",
              "      <td>0</td>\n",
              "    </tr>\n",
              "    <tr>\n",
              "      <th>7</th>\n",
              "      <td>1205.0</td>\n",
              "      <td>2.0</td>\n",
              "      <td>85.0</td>\n",
              "      <td>2</td>\n",
              "      <td>1</td>\n",
              "      <td>0</td>\n",
              "      <td>0</td>\n",
              "      <td>0</td>\n",
              "      <td>0</td>\n",
              "      <td>0</td>\n",
              "      <td>...</td>\n",
              "      <td>0</td>\n",
              "      <td>0</td>\n",
              "      <td>0</td>\n",
              "      <td>0</td>\n",
              "      <td>0</td>\n",
              "      <td>0</td>\n",
              "      <td>0</td>\n",
              "      <td>0</td>\n",
              "      <td>0</td>\n",
              "      <td>0</td>\n",
              "    </tr>\n",
              "    <tr>\n",
              "      <th>8</th>\n",
              "      <td>2615.0</td>\n",
              "      <td>5.0</td>\n",
              "      <td>222.0</td>\n",
              "      <td>4</td>\n",
              "      <td>1</td>\n",
              "      <td>0</td>\n",
              "      <td>0</td>\n",
              "      <td>0</td>\n",
              "      <td>0</td>\n",
              "      <td>0</td>\n",
              "      <td>...</td>\n",
              "      <td>0</td>\n",
              "      <td>0</td>\n",
              "      <td>0</td>\n",
              "      <td>0</td>\n",
              "      <td>0</td>\n",
              "      <td>0</td>\n",
              "      <td>0</td>\n",
              "      <td>0</td>\n",
              "      <td>0</td>\n",
              "      <td>0</td>\n",
              "    </tr>\n",
              "    <tr>\n",
              "      <th>9</th>\n",
              "      <td>1150.0</td>\n",
              "      <td>3.0</td>\n",
              "      <td>52.5</td>\n",
              "      <td>2</td>\n",
              "      <td>0</td>\n",
              "      <td>1</td>\n",
              "      <td>0</td>\n",
              "      <td>0</td>\n",
              "      <td>0</td>\n",
              "      <td>0</td>\n",
              "      <td>...</td>\n",
              "      <td>0</td>\n",
              "      <td>0</td>\n",
              "      <td>0</td>\n",
              "      <td>0</td>\n",
              "      <td>0</td>\n",
              "      <td>0</td>\n",
              "      <td>0</td>\n",
              "      <td>0</td>\n",
              "      <td>0</td>\n",
              "      <td>0</td>\n",
              "    </tr>\n",
              "  </tbody>\n",
              "</table>\n",
              "<p>10 rows × 143 columns</p>\n",
              "</div>"
            ],
            "text/plain": [
              "   total_sqft  bath  price  bhk  1st Phase JP Nagar  5th Phase JP Nagar  \\\n",
              "0      2825.0   4.0  250.0    4                   1                   0   \n",
              "1      1875.0   3.0  167.0    3                   1                   0   \n",
              "2      1394.0   2.0  100.0    2                   1                   0   \n",
              "3      1077.0   2.0   93.0    2                   1                   0   \n",
              "4      1590.0   3.0  131.0    3                   1                   0   \n",
              "5      2180.0   3.0  210.0    3                   1                   0   \n",
              "6      2077.0   3.0  175.0    3                   1                   0   \n",
              "7      1205.0   2.0   85.0    2                   1                   0   \n",
              "8      2615.0   5.0  222.0    4                   1                   0   \n",
              "9      1150.0   3.0   52.5    2                   0                   1   \n",
              "\n",
              "   7th Phase JP Nagar  8th Phase JP Nagar  9th Phase JP Nagar  AECS Layout  \\\n",
              "0                   0                   0                   0            0   \n",
              "1                   0                   0                   0            0   \n",
              "2                   0                   0                   0            0   \n",
              "3                   0                   0                   0            0   \n",
              "4                   0                   0                   0            0   \n",
              "5                   0                   0                   0            0   \n",
              "6                   0                   0                   0            0   \n",
              "7                   0                   0                   0            0   \n",
              "8                   0                   0                   0            0   \n",
              "9                   0                   0                   0            0   \n",
              "\n",
              "   ...  Thubarahalli  Tumkur Road  Uttarahalli  Varthur  Vijayanagar  \\\n",
              "0  ...             0            0            0        0            0   \n",
              "1  ...             0            0            0        0            0   \n",
              "2  ...             0            0            0        0            0   \n",
              "3  ...             0            0            0        0            0   \n",
              "4  ...             0            0            0        0            0   \n",
              "5  ...             0            0            0        0            0   \n",
              "6  ...             0            0            0        0            0   \n",
              "7  ...             0            0            0        0            0   \n",
              "8  ...             0            0            0        0            0   \n",
              "9  ...             0            0            0        0            0   \n",
              "\n",
              "   Vittasandra  Whitefield  Yelahanka  Yelahanka New Town  Yeshwanthpur  \n",
              "0            0           0          0                   0             0  \n",
              "1            0           0          0                   0             0  \n",
              "2            0           0          0                   0             0  \n",
              "3            0           0          0                   0             0  \n",
              "4            0           0          0                   0             0  \n",
              "5            0           0          0                   0             0  \n",
              "6            0           0          0                   0             0  \n",
              "7            0           0          0                   0             0  \n",
              "8            0           0          0                   0             0  \n",
              "9            0           0          0                   0             0  \n",
              "\n",
              "[10 rows x 143 columns]"
            ]
          },
          "execution_count": 55,
          "metadata": {},
          "output_type": "execute_result"
        }
      ],
      "source": [
        "df12 = df11.drop('location',axis='columns') #as location is covered in dummy\n",
        "df12.head(10)"
      ]
    },
    {
      "cell_type": "markdown",
      "metadata": {
        "id": "Yb5OTBwzPqO9"
      },
      "source": [
        "BUILDING ML MODEL"
      ]
    },
    {
      "cell_type": "code",
      "execution_count": 56,
      "metadata": {
        "colab": {
          "base_uri": "https://localhost:8080/"
        },
        "id": "nZZuoFG4PskN",
        "outputId": "4cec68ee-7191-4f50-e96d-46d6bcf80c6e"
      },
      "outputs": [
        {
          "data": {
            "text/plain": [
              "(3773, 143)"
            ]
          },
          "execution_count": 56,
          "metadata": {},
          "output_type": "execute_result"
        }
      ],
      "source": [
        "df12.shape"
      ]
    },
    {
      "cell_type": "code",
      "execution_count": 57,
      "metadata": {
        "colab": {
          "base_uri": "https://localhost:8080/",
          "height": 508
        },
        "id": "HX2z0hGnSBA5",
        "outputId": "59165b52-8da5-4028-f5e2-27d5aeadaff5"
      },
      "outputs": [
        {
          "data": {
            "text/html": [
              "<div>\n",
              "<style scoped>\n",
              "    .dataframe tbody tr th:only-of-type {\n",
              "        vertical-align: middle;\n",
              "    }\n",
              "\n",
              "    .dataframe tbody tr th {\n",
              "        vertical-align: top;\n",
              "    }\n",
              "\n",
              "    .dataframe thead th {\n",
              "        text-align: right;\n",
              "    }\n",
              "</style>\n",
              "<table border=\"1\" class=\"dataframe\">\n",
              "  <thead>\n",
              "    <tr style=\"text-align: right;\">\n",
              "      <th></th>\n",
              "      <th>total_sqft</th>\n",
              "      <th>bath</th>\n",
              "      <th>bhk</th>\n",
              "      <th>1st Phase JP Nagar</th>\n",
              "      <th>5th Phase JP Nagar</th>\n",
              "      <th>7th Phase JP Nagar</th>\n",
              "      <th>8th Phase JP Nagar</th>\n",
              "      <th>9th Phase JP Nagar</th>\n",
              "      <th>AECS Layout</th>\n",
              "      <th>Abbigere</th>\n",
              "      <th>...</th>\n",
              "      <th>Thubarahalli</th>\n",
              "      <th>Tumkur Road</th>\n",
              "      <th>Uttarahalli</th>\n",
              "      <th>Varthur</th>\n",
              "      <th>Vijayanagar</th>\n",
              "      <th>Vittasandra</th>\n",
              "      <th>Whitefield</th>\n",
              "      <th>Yelahanka</th>\n",
              "      <th>Yelahanka New Town</th>\n",
              "      <th>Yeshwanthpur</th>\n",
              "    </tr>\n",
              "  </thead>\n",
              "  <tbody>\n",
              "    <tr>\n",
              "      <th>0</th>\n",
              "      <td>2825.0</td>\n",
              "      <td>4.0</td>\n",
              "      <td>4</td>\n",
              "      <td>1</td>\n",
              "      <td>0</td>\n",
              "      <td>0</td>\n",
              "      <td>0</td>\n",
              "      <td>0</td>\n",
              "      <td>0</td>\n",
              "      <td>0</td>\n",
              "      <td>...</td>\n",
              "      <td>0</td>\n",
              "      <td>0</td>\n",
              "      <td>0</td>\n",
              "      <td>0</td>\n",
              "      <td>0</td>\n",
              "      <td>0</td>\n",
              "      <td>0</td>\n",
              "      <td>0</td>\n",
              "      <td>0</td>\n",
              "      <td>0</td>\n",
              "    </tr>\n",
              "    <tr>\n",
              "      <th>1</th>\n",
              "      <td>1875.0</td>\n",
              "      <td>3.0</td>\n",
              "      <td>3</td>\n",
              "      <td>1</td>\n",
              "      <td>0</td>\n",
              "      <td>0</td>\n",
              "      <td>0</td>\n",
              "      <td>0</td>\n",
              "      <td>0</td>\n",
              "      <td>0</td>\n",
              "      <td>...</td>\n",
              "      <td>0</td>\n",
              "      <td>0</td>\n",
              "      <td>0</td>\n",
              "      <td>0</td>\n",
              "      <td>0</td>\n",
              "      <td>0</td>\n",
              "      <td>0</td>\n",
              "      <td>0</td>\n",
              "      <td>0</td>\n",
              "      <td>0</td>\n",
              "    </tr>\n",
              "    <tr>\n",
              "      <th>2</th>\n",
              "      <td>1394.0</td>\n",
              "      <td>2.0</td>\n",
              "      <td>2</td>\n",
              "      <td>1</td>\n",
              "      <td>0</td>\n",
              "      <td>0</td>\n",
              "      <td>0</td>\n",
              "      <td>0</td>\n",
              "      <td>0</td>\n",
              "      <td>0</td>\n",
              "      <td>...</td>\n",
              "      <td>0</td>\n",
              "      <td>0</td>\n",
              "      <td>0</td>\n",
              "      <td>0</td>\n",
              "      <td>0</td>\n",
              "      <td>0</td>\n",
              "      <td>0</td>\n",
              "      <td>0</td>\n",
              "      <td>0</td>\n",
              "      <td>0</td>\n",
              "    </tr>\n",
              "    <tr>\n",
              "      <th>3</th>\n",
              "      <td>1077.0</td>\n",
              "      <td>2.0</td>\n",
              "      <td>2</td>\n",
              "      <td>1</td>\n",
              "      <td>0</td>\n",
              "      <td>0</td>\n",
              "      <td>0</td>\n",
              "      <td>0</td>\n",
              "      <td>0</td>\n",
              "      <td>0</td>\n",
              "      <td>...</td>\n",
              "      <td>0</td>\n",
              "      <td>0</td>\n",
              "      <td>0</td>\n",
              "      <td>0</td>\n",
              "      <td>0</td>\n",
              "      <td>0</td>\n",
              "      <td>0</td>\n",
              "      <td>0</td>\n",
              "      <td>0</td>\n",
              "      <td>0</td>\n",
              "    </tr>\n",
              "    <tr>\n",
              "      <th>4</th>\n",
              "      <td>1590.0</td>\n",
              "      <td>3.0</td>\n",
              "      <td>3</td>\n",
              "      <td>1</td>\n",
              "      <td>0</td>\n",
              "      <td>0</td>\n",
              "      <td>0</td>\n",
              "      <td>0</td>\n",
              "      <td>0</td>\n",
              "      <td>0</td>\n",
              "      <td>...</td>\n",
              "      <td>0</td>\n",
              "      <td>0</td>\n",
              "      <td>0</td>\n",
              "      <td>0</td>\n",
              "      <td>0</td>\n",
              "      <td>0</td>\n",
              "      <td>0</td>\n",
              "      <td>0</td>\n",
              "      <td>0</td>\n",
              "      <td>0</td>\n",
              "    </tr>\n",
              "    <tr>\n",
              "      <th>5</th>\n",
              "      <td>2180.0</td>\n",
              "      <td>3.0</td>\n",
              "      <td>3</td>\n",
              "      <td>1</td>\n",
              "      <td>0</td>\n",
              "      <td>0</td>\n",
              "      <td>0</td>\n",
              "      <td>0</td>\n",
              "      <td>0</td>\n",
              "      <td>0</td>\n",
              "      <td>...</td>\n",
              "      <td>0</td>\n",
              "      <td>0</td>\n",
              "      <td>0</td>\n",
              "      <td>0</td>\n",
              "      <td>0</td>\n",
              "      <td>0</td>\n",
              "      <td>0</td>\n",
              "      <td>0</td>\n",
              "      <td>0</td>\n",
              "      <td>0</td>\n",
              "    </tr>\n",
              "    <tr>\n",
              "      <th>6</th>\n",
              "      <td>2077.0</td>\n",
              "      <td>3.0</td>\n",
              "      <td>3</td>\n",
              "      <td>1</td>\n",
              "      <td>0</td>\n",
              "      <td>0</td>\n",
              "      <td>0</td>\n",
              "      <td>0</td>\n",
              "      <td>0</td>\n",
              "      <td>0</td>\n",
              "      <td>...</td>\n",
              "      <td>0</td>\n",
              "      <td>0</td>\n",
              "      <td>0</td>\n",
              "      <td>0</td>\n",
              "      <td>0</td>\n",
              "      <td>0</td>\n",
              "      <td>0</td>\n",
              "      <td>0</td>\n",
              "      <td>0</td>\n",
              "      <td>0</td>\n",
              "    </tr>\n",
              "    <tr>\n",
              "      <th>7</th>\n",
              "      <td>1205.0</td>\n",
              "      <td>2.0</td>\n",
              "      <td>2</td>\n",
              "      <td>1</td>\n",
              "      <td>0</td>\n",
              "      <td>0</td>\n",
              "      <td>0</td>\n",
              "      <td>0</td>\n",
              "      <td>0</td>\n",
              "      <td>0</td>\n",
              "      <td>...</td>\n",
              "      <td>0</td>\n",
              "      <td>0</td>\n",
              "      <td>0</td>\n",
              "      <td>0</td>\n",
              "      <td>0</td>\n",
              "      <td>0</td>\n",
              "      <td>0</td>\n",
              "      <td>0</td>\n",
              "      <td>0</td>\n",
              "      <td>0</td>\n",
              "    </tr>\n",
              "    <tr>\n",
              "      <th>8</th>\n",
              "      <td>2615.0</td>\n",
              "      <td>5.0</td>\n",
              "      <td>4</td>\n",
              "      <td>1</td>\n",
              "      <td>0</td>\n",
              "      <td>0</td>\n",
              "      <td>0</td>\n",
              "      <td>0</td>\n",
              "      <td>0</td>\n",
              "      <td>0</td>\n",
              "      <td>...</td>\n",
              "      <td>0</td>\n",
              "      <td>0</td>\n",
              "      <td>0</td>\n",
              "      <td>0</td>\n",
              "      <td>0</td>\n",
              "      <td>0</td>\n",
              "      <td>0</td>\n",
              "      <td>0</td>\n",
              "      <td>0</td>\n",
              "      <td>0</td>\n",
              "    </tr>\n",
              "    <tr>\n",
              "      <th>9</th>\n",
              "      <td>1150.0</td>\n",
              "      <td>3.0</td>\n",
              "      <td>2</td>\n",
              "      <td>0</td>\n",
              "      <td>1</td>\n",
              "      <td>0</td>\n",
              "      <td>0</td>\n",
              "      <td>0</td>\n",
              "      <td>0</td>\n",
              "      <td>0</td>\n",
              "      <td>...</td>\n",
              "      <td>0</td>\n",
              "      <td>0</td>\n",
              "      <td>0</td>\n",
              "      <td>0</td>\n",
              "      <td>0</td>\n",
              "      <td>0</td>\n",
              "      <td>0</td>\n",
              "      <td>0</td>\n",
              "      <td>0</td>\n",
              "      <td>0</td>\n",
              "    </tr>\n",
              "  </tbody>\n",
              "</table>\n",
              "<p>10 rows × 142 columns</p>\n",
              "</div>"
            ],
            "text/plain": [
              "   total_sqft  bath  bhk  1st Phase JP Nagar  5th Phase JP Nagar  \\\n",
              "0      2825.0   4.0    4                   1                   0   \n",
              "1      1875.0   3.0    3                   1                   0   \n",
              "2      1394.0   2.0    2                   1                   0   \n",
              "3      1077.0   2.0    2                   1                   0   \n",
              "4      1590.0   3.0    3                   1                   0   \n",
              "5      2180.0   3.0    3                   1                   0   \n",
              "6      2077.0   3.0    3                   1                   0   \n",
              "7      1205.0   2.0    2                   1                   0   \n",
              "8      2615.0   5.0    4                   1                   0   \n",
              "9      1150.0   3.0    2                   0                   1   \n",
              "\n",
              "   7th Phase JP Nagar  8th Phase JP Nagar  9th Phase JP Nagar  AECS Layout  \\\n",
              "0                   0                   0                   0            0   \n",
              "1                   0                   0                   0            0   \n",
              "2                   0                   0                   0            0   \n",
              "3                   0                   0                   0            0   \n",
              "4                   0                   0                   0            0   \n",
              "5                   0                   0                   0            0   \n",
              "6                   0                   0                   0            0   \n",
              "7                   0                   0                   0            0   \n",
              "8                   0                   0                   0            0   \n",
              "9                   0                   0                   0            0   \n",
              "\n",
              "   Abbigere  ...  Thubarahalli  Tumkur Road  Uttarahalli  Varthur  \\\n",
              "0         0  ...             0            0            0        0   \n",
              "1         0  ...             0            0            0        0   \n",
              "2         0  ...             0            0            0        0   \n",
              "3         0  ...             0            0            0        0   \n",
              "4         0  ...             0            0            0        0   \n",
              "5         0  ...             0            0            0        0   \n",
              "6         0  ...             0            0            0        0   \n",
              "7         0  ...             0            0            0        0   \n",
              "8         0  ...             0            0            0        0   \n",
              "9         0  ...             0            0            0        0   \n",
              "\n",
              "   Vijayanagar  Vittasandra  Whitefield  Yelahanka  Yelahanka New Town  \\\n",
              "0            0            0           0          0                   0   \n",
              "1            0            0           0          0                   0   \n",
              "2            0            0           0          0                   0   \n",
              "3            0            0           0          0                   0   \n",
              "4            0            0           0          0                   0   \n",
              "5            0            0           0          0                   0   \n",
              "6            0            0           0          0                   0   \n",
              "7            0            0           0          0                   0   \n",
              "8            0            0           0          0                   0   \n",
              "9            0            0           0          0                   0   \n",
              "\n",
              "   Yeshwanthpur  \n",
              "0             0  \n",
              "1             0  \n",
              "2             0  \n",
              "3             0  \n",
              "4             0  \n",
              "5             0  \n",
              "6             0  \n",
              "7             0  \n",
              "8             0  \n",
              "9             0  \n",
              "\n",
              "[10 rows x 142 columns]"
            ]
          },
          "execution_count": 57,
          "metadata": {},
          "output_type": "execute_result"
        }
      ],
      "source": [
        "X = df12.drop(['price'],axis='columns') #because X is dependent variable\n",
        "X.head(10)"
      ]
    },
    {
      "cell_type": "code",
      "execution_count": 58,
      "metadata": {
        "colab": {
          "base_uri": "https://localhost:8080/"
        },
        "id": "gFMQzmKFSPvV",
        "outputId": "e0a7e55a-91c7-4350-83af-71bbfa954849"
      },
      "outputs": [
        {
          "data": {
            "text/plain": [
              "(3773, 142)"
            ]
          },
          "execution_count": 58,
          "metadata": {},
          "output_type": "execute_result"
        }
      ],
      "source": [
        "X.shape #all independent variable good for model training\n"
      ]
    },
    {
      "cell_type": "code",
      "execution_count": 59,
      "metadata": {
        "colab": {
          "base_uri": "https://localhost:8080/"
        },
        "id": "JwB7-PZkSchW",
        "outputId": "c351a04b-4521-4e22-90c6-a8ede75b7325"
      },
      "outputs": [
        {
          "data": {
            "text/plain": [
              "0    250.0\n",
              "1    167.0\n",
              "2    100.0\n",
              "3     93.0\n",
              "4    131.0\n",
              "5    210.0\n",
              "6    175.0\n",
              "7     85.0\n",
              "8    222.0\n",
              "9     52.5\n",
              "Name: price, dtype: float64"
            ]
          },
          "execution_count": 59,
          "metadata": {},
          "output_type": "execute_result"
        }
      ],
      "source": [
        "Y = df12.price #for model testing\n",
        "Y.head(10)"
      ]
    },
    {
      "cell_type": "code",
      "execution_count": 60,
      "metadata": {
        "id": "YcLzw9KUSqL0"
      },
      "outputs": [],
      "source": [
        "from sklearn.model_selection import train_test_split\n",
        "X_train, X_test, y_train, y_test = train_test_split(X,Y,test_size=0.2,random_state=10)"
      ]
    },
    {
      "cell_type": "code",
      "execution_count": 61,
      "metadata": {
        "colab": {
          "base_uri": "https://localhost:8080/"
        },
        "id": "4BzyKF_JStrj",
        "outputId": "c3c34706-56e9-4e23-8555-8aabcde7cfa0"
      },
      "outputs": [
        {
          "data": {
            "text/plain": [
              "0.9297426540078214"
            ]
          },
          "execution_count": 61,
          "metadata": {},
          "output_type": "execute_result"
        }
      ],
      "source": [
        "from sklearn.linear_model import LinearRegression\n",
        "lr_clf = LinearRegression()\n",
        "lr_clf.fit(X_train,y_train)\n",
        "lr_clf.score(X_test,y_test)\n"
      ]
    },
    {
      "cell_type": "code",
      "execution_count": 62,
      "metadata": {
        "colab": {
          "base_uri": "https://localhost:8080/"
        },
        "id": "VGLkn9DWS977",
        "outputId": "f5c67fc5-c30f-4ce2-9d9b-f9fc01b4950c"
      },
      "outputs": [
        {
          "data": {
            "text/plain": [
              "array([0.91577174, 0.91440355, 0.92688097, 0.89517532, 0.91678891])"
            ]
          },
          "execution_count": 62,
          "metadata": {},
          "output_type": "execute_result"
        }
      ],
      "source": [
        "from sklearn.model_selection import ShuffleSplit\n",
        "from sklearn.model_selection import cross_val_score\n",
        "\n",
        "cv = ShuffleSplit(n_splits=5, test_size=0.2, random_state=0) #to shuffle the data\n",
        "\n",
        "cross_val_score(LinearRegression(), X, Y, cv=cv)"
      ]
    },
    {
      "cell_type": "code",
      "execution_count": 63,
      "metadata": {
        "id": "vFmgrzYGTlaM"
      },
      "outputs": [],
      "source": [
        "import pandas as pd\n",
        "from sklearn.model_selection import GridSearchCV, ShuffleSplit\n",
        "from sklearn.linear_model import LinearRegression, Lasso\n",
        "from sklearn.tree import DecisionTreeRegressor\n",
        "\n",
        "def find_best_model_using_gridsearchcv(X, y):\n",
        "    algos = {\n",
        "        'linear_regression': {\n",
        "            'model': LinearRegression(),\n",
        "            'params': {\n",
        "                'normalize': [True, False]\n",
        "            }\n",
        "        },\n",
        "        'lasso': {\n",
        "            'model': Lasso(),\n",
        "            'params': {\n",
        "                'alpha': [1, 2],\n",
        "                'selection': ['random', 'cyclic']\n",
        "            }\n",
        "        },\n",
        "        'decision_tree': {\n",
        "            'model': DecisionTreeRegressor(),\n",
        "            'params': {\n",
        "                'criterion': ['mse', 'friedman_mse'],\n",
        "                'splitter': ['best', 'random']\n",
        "            }\n",
        "        }\n",
        "    }\n",
        "    scores = []\n",
        "    cv = ShuffleSplit(n_splits=5, test_size=0.2, random_state=0)\n",
        "    for algo_name, config in algos.items():\n",
        "        gs = GridSearchCV(config['model'], config['params'], cv=cv, return_train_score=False)\n",
        "        gs.fit(X, y)\n",
        "        scores.append({\n",
        "            'model': algo_name,\n",
        "            'best_score': gs.best_score_,\n",
        "            'best_params': gs.best_params_\n",
        "        })\n",
        "\n",
        "    return pd.DataFrame(scores, columns=['model', 'best_score', 'best_params'])\n",
        "\n",
        "\n"
      ]
    },
    {
      "cell_type": "code",
      "execution_count": 64,
      "metadata": {
        "colab": {
          "base_uri": "https://localhost:8080/",
          "height": 592
        },
        "id": "g6EmZK2AWsxY",
        "outputId": "f89b8faa-f511-4fed-e9f6-6d0b2160570a"
      },
      "outputs": [
        {
          "name": "stderr",
          "output_type": "stream",
          "text": [
            "/Library/Frameworks/Python.framework/Versions/3.9/lib/python3.9/site-packages/sklearn/linear_model/_base.py:141: FutureWarning: 'normalize' was deprecated in version 1.0 and will be removed in 1.2.\n",
            "If you wish to scale the data, use Pipeline with a StandardScaler in a preprocessing stage. To reproduce the previous behavior:\n",
            "\n",
            "from sklearn.pipeline import make_pipeline\n",
            "\n",
            "model = make_pipeline(StandardScaler(with_mean=False), LinearRegression())\n",
            "\n",
            "If you wish to pass a sample_weight parameter, you need to pass it as a fit parameter to each step of the pipeline as follows:\n",
            "\n",
            "kwargs = {s[0] + '__sample_weight': sample_weight for s in model.steps}\n",
            "model.fit(X, y, **kwargs)\n",
            "\n",
            "\n",
            "  warnings.warn(\n",
            "/Library/Frameworks/Python.framework/Versions/3.9/lib/python3.9/site-packages/sklearn/linear_model/_base.py:141: FutureWarning: 'normalize' was deprecated in version 1.0 and will be removed in 1.2.\n",
            "If you wish to scale the data, use Pipeline with a StandardScaler in a preprocessing stage. To reproduce the previous behavior:\n",
            "\n",
            "from sklearn.pipeline import make_pipeline\n",
            "\n",
            "model = make_pipeline(StandardScaler(with_mean=False), LinearRegression())\n",
            "\n",
            "If you wish to pass a sample_weight parameter, you need to pass it as a fit parameter to each step of the pipeline as follows:\n",
            "\n",
            "kwargs = {s[0] + '__sample_weight': sample_weight for s in model.steps}\n",
            "model.fit(X, y, **kwargs)\n",
            "\n",
            "\n",
            "  warnings.warn(\n",
            "/Library/Frameworks/Python.framework/Versions/3.9/lib/python3.9/site-packages/sklearn/linear_model/_base.py:141: FutureWarning: 'normalize' was deprecated in version 1.0 and will be removed in 1.2.\n",
            "If you wish to scale the data, use Pipeline with a StandardScaler in a preprocessing stage. To reproduce the previous behavior:\n",
            "\n",
            "from sklearn.pipeline import make_pipeline\n",
            "\n",
            "model = make_pipeline(StandardScaler(with_mean=False), LinearRegression())\n",
            "\n",
            "If you wish to pass a sample_weight parameter, you need to pass it as a fit parameter to each step of the pipeline as follows:\n",
            "\n",
            "kwargs = {s[0] + '__sample_weight': sample_weight for s in model.steps}\n",
            "model.fit(X, y, **kwargs)\n",
            "\n",
            "\n",
            "  warnings.warn(\n",
            "/Library/Frameworks/Python.framework/Versions/3.9/lib/python3.9/site-packages/sklearn/linear_model/_base.py:141: FutureWarning: 'normalize' was deprecated in version 1.0 and will be removed in 1.2.\n",
            "If you wish to scale the data, use Pipeline with a StandardScaler in a preprocessing stage. To reproduce the previous behavior:\n",
            "\n",
            "from sklearn.pipeline import make_pipeline\n",
            "\n",
            "model = make_pipeline(StandardScaler(with_mean=False), LinearRegression())\n",
            "\n",
            "If you wish to pass a sample_weight parameter, you need to pass it as a fit parameter to each step of the pipeline as follows:\n",
            "\n",
            "kwargs = {s[0] + '__sample_weight': sample_weight for s in model.steps}\n",
            "model.fit(X, y, **kwargs)\n",
            "\n",
            "\n",
            "  warnings.warn(\n",
            "/Library/Frameworks/Python.framework/Versions/3.9/lib/python3.9/site-packages/sklearn/linear_model/_base.py:141: FutureWarning: 'normalize' was deprecated in version 1.0 and will be removed in 1.2.\n",
            "If you wish to scale the data, use Pipeline with a StandardScaler in a preprocessing stage. To reproduce the previous behavior:\n",
            "\n",
            "from sklearn.pipeline import make_pipeline\n",
            "\n",
            "model = make_pipeline(StandardScaler(with_mean=False), LinearRegression())\n",
            "\n",
            "If you wish to pass a sample_weight parameter, you need to pass it as a fit parameter to each step of the pipeline as follows:\n",
            "\n",
            "kwargs = {s[0] + '__sample_weight': sample_weight for s in model.steps}\n",
            "model.fit(X, y, **kwargs)\n",
            "\n",
            "\n",
            "  warnings.warn(\n",
            "/Library/Frameworks/Python.framework/Versions/3.9/lib/python3.9/site-packages/sklearn/linear_model/_base.py:148: FutureWarning: 'normalize' was deprecated in version 1.0 and will be removed in 1.2. Please leave the normalize parameter to its default value to silence this warning. The default behavior of this estimator is to not do any normalization. If normalization is needed please use sklearn.preprocessing.StandardScaler instead.\n",
            "  warnings.warn(\n",
            "/Library/Frameworks/Python.framework/Versions/3.9/lib/python3.9/site-packages/sklearn/linear_model/_base.py:148: FutureWarning: 'normalize' was deprecated in version 1.0 and will be removed in 1.2. Please leave the normalize parameter to its default value to silence this warning. The default behavior of this estimator is to not do any normalization. If normalization is needed please use sklearn.preprocessing.StandardScaler instead.\n",
            "  warnings.warn(\n",
            "/Library/Frameworks/Python.framework/Versions/3.9/lib/python3.9/site-packages/sklearn/linear_model/_base.py:148: FutureWarning: 'normalize' was deprecated in version 1.0 and will be removed in 1.2. Please leave the normalize parameter to its default value to silence this warning. The default behavior of this estimator is to not do any normalization. If normalization is needed please use sklearn.preprocessing.StandardScaler instead.\n",
            "  warnings.warn(\n",
            "/Library/Frameworks/Python.framework/Versions/3.9/lib/python3.9/site-packages/sklearn/linear_model/_base.py:148: FutureWarning: 'normalize' was deprecated in version 1.0 and will be removed in 1.2. Please leave the normalize parameter to its default value to silence this warning. The default behavior of this estimator is to not do any normalization. If normalization is needed please use sklearn.preprocessing.StandardScaler instead.\n",
            "  warnings.warn(\n",
            "/Library/Frameworks/Python.framework/Versions/3.9/lib/python3.9/site-packages/sklearn/linear_model/_base.py:148: FutureWarning: 'normalize' was deprecated in version 1.0 and will be removed in 1.2. Please leave the normalize parameter to its default value to silence this warning. The default behavior of this estimator is to not do any normalization. If normalization is needed please use sklearn.preprocessing.StandardScaler instead.\n",
            "  warnings.warn(\n",
            "/Library/Frameworks/Python.framework/Versions/3.9/lib/python3.9/site-packages/sklearn/linear_model/_base.py:148: FutureWarning: 'normalize' was deprecated in version 1.0 and will be removed in 1.2. Please leave the normalize parameter to its default value to silence this warning. The default behavior of this estimator is to not do any normalization. If normalization is needed please use sklearn.preprocessing.StandardScaler instead.\n",
            "  warnings.warn(\n",
            "/Library/Frameworks/Python.framework/Versions/3.9/lib/python3.9/site-packages/sklearn/tree/_classes.py:359: FutureWarning: Criterion 'mse' was deprecated in v1.0 and will be removed in version 1.2. Use `criterion='squared_error'` which is equivalent.\n",
            "  warnings.warn(\n",
            "/Library/Frameworks/Python.framework/Versions/3.9/lib/python3.9/site-packages/sklearn/tree/_classes.py:359: FutureWarning: Criterion 'mse' was deprecated in v1.0 and will be removed in version 1.2. Use `criterion='squared_error'` which is equivalent.\n",
            "  warnings.warn(\n",
            "/Library/Frameworks/Python.framework/Versions/3.9/lib/python3.9/site-packages/sklearn/tree/_classes.py:359: FutureWarning: Criterion 'mse' was deprecated in v1.0 and will be removed in version 1.2. Use `criterion='squared_error'` which is equivalent.\n",
            "  warnings.warn(\n",
            "/Library/Frameworks/Python.framework/Versions/3.9/lib/python3.9/site-packages/sklearn/tree/_classes.py:359: FutureWarning: Criterion 'mse' was deprecated in v1.0 and will be removed in version 1.2. Use `criterion='squared_error'` which is equivalent.\n",
            "  warnings.warn(\n",
            "/Library/Frameworks/Python.framework/Versions/3.9/lib/python3.9/site-packages/sklearn/tree/_classes.py:359: FutureWarning: Criterion 'mse' was deprecated in v1.0 and will be removed in version 1.2. Use `criterion='squared_error'` which is equivalent.\n",
            "  warnings.warn(\n",
            "/Library/Frameworks/Python.framework/Versions/3.9/lib/python3.9/site-packages/sklearn/tree/_classes.py:359: FutureWarning: Criterion 'mse' was deprecated in v1.0 and will be removed in version 1.2. Use `criterion='squared_error'` which is equivalent.\n",
            "  warnings.warn(\n",
            "/Library/Frameworks/Python.framework/Versions/3.9/lib/python3.9/site-packages/sklearn/tree/_classes.py:359: FutureWarning: Criterion 'mse' was deprecated in v1.0 and will be removed in version 1.2. Use `criterion='squared_error'` which is equivalent.\n",
            "  warnings.warn(\n",
            "/Library/Frameworks/Python.framework/Versions/3.9/lib/python3.9/site-packages/sklearn/tree/_classes.py:359: FutureWarning: Criterion 'mse' was deprecated in v1.0 and will be removed in version 1.2. Use `criterion='squared_error'` which is equivalent.\n",
            "  warnings.warn(\n",
            "/Library/Frameworks/Python.framework/Versions/3.9/lib/python3.9/site-packages/sklearn/tree/_classes.py:359: FutureWarning: Criterion 'mse' was deprecated in v1.0 and will be removed in version 1.2. Use `criterion='squared_error'` which is equivalent.\n",
            "  warnings.warn(\n",
            "/Library/Frameworks/Python.framework/Versions/3.9/lib/python3.9/site-packages/sklearn/tree/_classes.py:359: FutureWarning: Criterion 'mse' was deprecated in v1.0 and will be removed in version 1.2. Use `criterion='squared_error'` which is equivalent.\n",
            "  warnings.warn(\n",
            "/Library/Frameworks/Python.framework/Versions/3.9/lib/python3.9/site-packages/sklearn/tree/_classes.py:359: FutureWarning: Criterion 'mse' was deprecated in v1.0 and will be removed in version 1.2. Use `criterion='squared_error'` which is equivalent.\n",
            "  warnings.warn(\n"
          ]
        },
        {
          "data": {
            "text/html": [
              "<div>\n",
              "<style scoped>\n",
              "    .dataframe tbody tr th:only-of-type {\n",
              "        vertical-align: middle;\n",
              "    }\n",
              "\n",
              "    .dataframe tbody tr th {\n",
              "        vertical-align: top;\n",
              "    }\n",
              "\n",
              "    .dataframe thead th {\n",
              "        text-align: right;\n",
              "    }\n",
              "</style>\n",
              "<table border=\"1\" class=\"dataframe\">\n",
              "  <thead>\n",
              "    <tr style=\"text-align: right;\">\n",
              "      <th></th>\n",
              "      <th>model</th>\n",
              "      <th>best_score</th>\n",
              "      <th>best_params</th>\n",
              "    </tr>\n",
              "  </thead>\n",
              "  <tbody>\n",
              "    <tr>\n",
              "      <th>0</th>\n",
              "      <td>linear_regression</td>\n",
              "      <td>0.913804</td>\n",
              "      <td>{'normalize': False}</td>\n",
              "    </tr>\n",
              "    <tr>\n",
              "      <th>1</th>\n",
              "      <td>lasso</td>\n",
              "      <td>0.785047</td>\n",
              "      <td>{'alpha': 1, 'selection': 'random'}</td>\n",
              "    </tr>\n",
              "    <tr>\n",
              "      <th>2</th>\n",
              "      <td>decision_tree</td>\n",
              "      <td>0.852107</td>\n",
              "      <td>{'criterion': 'mse', 'splitter': 'best'}</td>\n",
              "    </tr>\n",
              "  </tbody>\n",
              "</table>\n",
              "</div>"
            ],
            "text/plain": [
              "               model  best_score                               best_params\n",
              "0  linear_regression    0.913804                      {'normalize': False}\n",
              "1              lasso    0.785047       {'alpha': 1, 'selection': 'random'}\n",
              "2      decision_tree    0.852107  {'criterion': 'mse', 'splitter': 'best'}"
            ]
          },
          "execution_count": 64,
          "metadata": {},
          "output_type": "execute_result"
        }
      ],
      "source": [
        "find_best_model_using_gridsearchcv(X,Y)"
      ]
    },
    {
      "cell_type": "markdown",
      "metadata": {
        "id": "jUKsv0J9YeT3"
      },
      "source": [
        "This shows linear refression is best model for our data."
      ]
    },
    {
      "cell_type": "code",
      "execution_count": 65,
      "metadata": {
        "id": "qMaPgJywVlnT"
      },
      "outputs": [],
      "source": [
        "def predict_price(location,sqft,bath,bhk):\n",
        "    loc_index = np.where(X.columns==location)[0][0]\n",
        "\n",
        "    x = np.zeros(len(X.columns))\n",
        "    x[0] = sqft\n",
        "    x[1] = bath\n",
        "    x[2] = bhk\n",
        "    if loc_index >= 0:\n",
        "        x[loc_index] = 1\n",
        "\n",
        "    return lr_clf.predict([x])[0]"
      ]
    },
    {
      "cell_type": "code",
      "execution_count": 66,
      "metadata": {
        "colab": {
          "base_uri": "https://localhost:8080/"
        },
        "id": "cSyXmEUEXk0x",
        "outputId": "d2314798-5c4b-4f83-cbb1-d182693dcc8e"
      },
      "outputs": [
        {
          "name": "stderr",
          "output_type": "stream",
          "text": [
            "/Library/Frameworks/Python.framework/Versions/3.9/lib/python3.9/site-packages/sklearn/base.py:450: UserWarning: X does not have valid feature names, but LinearRegression was fitted with feature names\n",
            "  warnings.warn(\n"
          ]
        },
        {
          "data": {
            "text/plain": [
              "92.97759308067943"
            ]
          },
          "execution_count": 66,
          "metadata": {},
          "output_type": "execute_result"
        }
      ],
      "source": [
        "predict_price('1st Phase JP Nagar',1000, 2, 2)"
      ]
    },
    {
      "cell_type": "code",
      "execution_count": 67,
      "metadata": {
        "colab": {
          "base_uri": "https://localhost:8080/"
        },
        "id": "dSHqZYofXnc8",
        "outputId": "96869352-41a1-48c8-e9f4-e5541c3a16a6"
      },
      "outputs": [
        {
          "name": "stderr",
          "output_type": "stream",
          "text": [
            "/Library/Frameworks/Python.framework/Versions/3.9/lib/python3.9/site-packages/sklearn/base.py:450: UserWarning: X does not have valid feature names, but LinearRegression was fitted with feature names\n",
            "  warnings.warn(\n"
          ]
        },
        {
          "data": {
            "text/plain": [
              "93.12666432294601"
            ]
          },
          "execution_count": 67,
          "metadata": {},
          "output_type": "execute_result"
        }
      ],
      "source": [
        "predict_price('1st Phase JP Nagar',1000, 3, 3)"
      ]
    },
    {
      "cell_type": "code",
      "execution_count": 68,
      "metadata": {
        "colab": {
          "base_uri": "https://localhost:8080/"
        },
        "id": "XKr8tz65Xoo_",
        "outputId": "8ada0e9b-9c29-4ce1-c5d2-1984c16b0e2b"
      },
      "outputs": [
        {
          "name": "stderr",
          "output_type": "stream",
          "text": [
            "/Library/Frameworks/Python.framework/Versions/3.9/lib/python3.9/site-packages/sklearn/base.py:450: UserWarning: X does not have valid feature names, but LinearRegression was fitted with feature names\n",
            "  warnings.warn(\n"
          ]
        },
        {
          "data": {
            "text/plain": [
              "109.20716696302203"
            ]
          },
          "execution_count": 68,
          "metadata": {},
          "output_type": "execute_result"
        }
      ],
      "source": [
        "predict_price('Indira Nagar',1000, 2, 2)"
      ]
    },
    {
      "cell_type": "code",
      "execution_count": 69,
      "metadata": {
        "colab": {
          "base_uri": "https://localhost:8080/"
        },
        "id": "iLvdFFZfXrSf",
        "outputId": "0369dbf7-667c-46c3-eb54-3fb17789dc00"
      },
      "outputs": [
        {
          "name": "stderr",
          "output_type": "stream",
          "text": [
            "/Library/Frameworks/Python.framework/Versions/3.9/lib/python3.9/site-packages/sklearn/base.py:450: UserWarning: X does not have valid feature names, but LinearRegression was fitted with feature names\n",
            "  warnings.warn(\n"
          ]
        },
        {
          "data": {
            "text/plain": [
              "109.3562382052886"
            ]
          },
          "execution_count": 69,
          "metadata": {},
          "output_type": "execute_result"
        }
      ],
      "source": [
        "predict_price('Indira Nagar',1000, 3, 3)"
      ]
    },
    {
      "cell_type": "code",
      "execution_count": 70,
      "metadata": {
        "id": "omgkrqalXso9"
      },
      "outputs": [],
      "source": [
        "import pickle\n",
        "with open('banglore_home_prices_model.pickle','wb') as f:\n",
        "    pickle.dump(lr_clf,f)"
      ]
    },
    {
      "cell_type": "code",
      "execution_count": 71,
      "metadata": {
        "id": "n2Q9GRyFXzpa"
      },
      "outputs": [],
      "source": [
        "import json\n",
        "columns = {\n",
        "    'data_columns' : [col.lower() for col in X.columns]\n",
        "}\n",
        "with open(\"columns.json\",\"w\") as f:\n",
        "    f.write(json.dumps(columns))"
      ]
    }
  ],
  "metadata": {
    "colab": {
      "provenance": []
    },
    "kernelspec": {
      "display_name": "Python 3",
      "name": "python3"
    },
    "language_info": {
      "codemirror_mode": {
        "name": "ipython",
        "version": 3
      },
      "file_extension": ".py",
      "mimetype": "text/x-python",
      "name": "python",
      "nbconvert_exporter": "python",
      "pygments_lexer": "ipython3",
      "version": "3.9.6"
    }
  },
  "nbformat": 4,
  "nbformat_minor": 0
}
